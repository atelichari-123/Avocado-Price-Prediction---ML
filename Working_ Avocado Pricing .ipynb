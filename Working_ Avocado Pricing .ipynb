{
 "cells": [
  {
   "cell_type": "markdown",
   "metadata": {
    "id": "Aew4bgNerjxl"
   },
   "source": [
    "<center><img src=\"https://github.com/insaid2018/Term-1/blob/master/Images/INSAID_Full%20Logo.png?raw=true\" width=\"240\" height=\"120\" /></center>"
   ]
  },
  {
   "cell_type": "markdown",
   "metadata": {
    "id": "Wen3uYwIfvSZ"
   },
   "source": [
    "---\n",
    "# **Table of Contents**\n",
    "---\n",
    "\n",
    "1.[**Introduction**](#Section1)<br>\n",
    "2.[**Problem Statement**](#Section2)<br>\n",
    "3.[**Installing and Importing libraries**](#Section3)<br>\n",
    "  - **3.1** [**Installing Libraries**](#Section31)\n",
    "  - **3.2** [**Importing packages**](#Section32)    \n",
    "\n",
    "4.[**Data Aquisition and Description**](#Section4)<br>\n",
    "  - **4.1** [**Data Description**](#section41)<br>\n",
    "  - **4.2** [**Data Information**](#section42)<br>\n",
    "  \n",
    "5.[**Data Pre-Processing**](#Section5)<br>\n",
    "  - **5.1** [**Pre-Profiling Report**](#Section51)<br>\n",
    "  - **5.2** [**Pre-Processing**](#Section52)<br>\n",
    "  \n",
    "6.[**Exploratory Data Analysis**](#Section6)<br>\n",
    "  - **6.1** [**What is the YoY status of sales?**](#Section61)<br>\n",
    "  - **6.2** [**What type of bags are sold the most?**](#Section62)<br>\n",
    "  - **6.3** [**Which type of Avocados are more in demand (Conventional or Organic)?**](#Section62)<br>\n",
    "  - **6.4** [**What does the Average price distribution look like?**](#Section64)<br>\n",
    "  - **6.5** [**How is Average price distributed over the months for Conventional and Organic Types?**](#Section65)<br>\n",
    "  - **6.6** [**What are TOP 5 regions where Average price are very high?**](#Section66)<br>  \n",
    "  - **6.7** [**In which year and for which region was the Average price the highest?**](#Section67)<br>\n",
    "  \n",
    "7.0 [**Feature Selection & Post Data Processing**](#Section68)<br>\n",
    "  - **7.1** [**Feature Selection**](#Section71)<br>\n",
    "  - **7.2** [**Post-Profiling Report**](#Section72)<br>\n",
    "  - **7.3** [**Encoding Categorical Features**](#Section73)<br>\n",
    "  - **7.4** [**Data Preparation**](#Section74)<br>\n",
    "  \n",
    "8.0 [**Model Development and Evaluation**](#Section80)<br>\n",
    "  - **8.1** [**Linear Regression**](#Section81)<br>\n",
    "  - **8.2** [**Decision Tree Regression**](#Section82)<br>\n",
    "  - **8.3** [**Random Forest Regressor**](#Section83)<br>\n",
    "  \n",
    "9.0 [**Conclusion**](#Section90)<br>\n",
    "\n",
    "---"
   ]
  },
  {
   "cell_type": "markdown",
   "metadata": {
    "id": "-k9cUp34rjyU"
   },
   "source": [
    "<a name = Section1></a>\n",
    "# **1. Introduction**\n"
   ]
  },
  {
   "cell_type": "markdown",
   "metadata": {
    "id": "D-3NTYz5rjyV"
   },
   "source": [
    "An avocado is a bright green fruit with a large pit and dark leathery skin. They’re also known as alligator pears or butter fruit. Avocados are a favorite of the produce section. They are the go-to ingredient for guacamole dips. And they are turning up in everything from salads and wraps to smoothies and even brownies.\n",
    "Avocados have exploded in popularity in the United States over the last few decades. In 1985, domestic consumption was a meager 436 million pounds. That number has increased six-fold to over 2.7 billion pounds of the berry being consumed by Americans in 2020."
   ]
  },
  {
   "cell_type": "markdown",
   "metadata": {},
   "source": [
    "---\n",
    "<a name = Section2></a>\n",
    "# **2. Problem Statement**\n",
    "---\n"
   ]
  },
  {
   "cell_type": "markdown",
   "metadata": {
    "id": "HHUp99eUrjxn"
   },
   "source": [
    "Avacard-corp avocados are sourced from over 1000 growers owning over 65,000 acres across California, Mexico, Chile, and Peru.\n",
    "\n",
    "With generations of experience growing, packing, and shipping avocados, they have a deep understanding of the avocado industry.\n",
    "\n",
    "Their aim is to source quality fruit that’s sustainably grown and handled in the most efficient, shortest supply route possible.\n",
    "\n",
    "They want to increase their supply throughout the United States and need to make sure that they are selling their products at the best possible price.\n",
    "\n",
    "Avocado prices have rocketed in recent years by up to 129%, with the average national price in the US of a single Hass avocado reaching $2.10 in 2019, almost doubling in just one year.\n",
    "\n",
    "Due to this uncertainty in the prices, the company is not able to sell their produce at the optimal price.\n",
    "\n",
    "Your task is to predict the optimal price of the avocardo using the previous sales data of avocado according to different regions.\n",
    "\n",
    "<center><img src=\"https://images.stockfreeimages.com/1829/sfi226w/18291838.jpg\" width=400 height=240></center>  \n",
    "\n"
   ]
  },
  {
   "cell_type": "markdown",
   "metadata": {
    "id": "vMY5oyUPHR1a"
   },
   "source": [
    "---\n",
    "<a name = Section3></a>\n",
    "# 3. Installing & Importing Libraries\n",
    "---"
   ]
  },
  {
   "cell_type": "markdown",
   "metadata": {
    "id": "GO8A-0t9f4SH"
   },
   "source": [
    "<a name = Section31></a>\n",
    "### **3.1 Installing Libraries**"
   ]
  },
  {
   "cell_type": "code",
   "execution_count": 1,
   "metadata": {
    "colab": {
     "base_uri": "https://localhost:8080/",
     "height": 390
    },
    "executionInfo": {
     "elapsed": 18931,
     "status": "ok",
     "timestamp": 1602240180808,
     "user": {
      "displayName": "Varun Rao",
      "photoUrl": "",
      "userId": "01668619371257134222"
     },
     "user_tz": -330
    },
    "id": "tgQOEhmAfgNc",
    "outputId": "ddc5f646-e8cb-4c29-f4ee-ea3100760b77"
   },
   "outputs": [],
   "source": [
    "#!pip install -q datascience                   # Package that is required by pandas profiling\n",
    "#!pip install -q pandas-profiling              # Library to generate basic statistics about data \n",
    "#!pip install pandas==0.25"
   ]
  },
  {
   "cell_type": "markdown",
   "metadata": {
    "id": "BfhQ7YSBrjxp"
   },
   "source": [
    "<a name = Section32></a>\n",
    "### 3.2. **Importing Packages** "
   ]
  },
  {
   "cell_type": "code",
   "execution_count": 2,
   "metadata": {
    "id": "9KpckLk0gAio"
   },
   "outputs": [],
   "source": [
    "#------------------------------------------------------------------------------------------------------------------------------\n",
    "import pandas as pd                                                 # Importing for panel data analysis\n",
    "from pandas_profiling import ProfileReport                          # Import Pandas Profiling (To generate Univariate Analysis) \n",
    "pd.set_option('display.max_columns', None)                          # Unfolding hidden features if the cardinality is high      \n",
    "pd.set_option('display.max_rows', None)                             # Unfolding hidden data points if the cardinality is high\n",
    "pd.set_option('mode.chained_assignment', None)                      # Removing restriction over chained assignments operations\n",
    "pd.set_option('display.float_format', lambda x: '%.5f' % x)         # To suppress scientific notation over exponential values\n",
    "#-------------------------------------------------------------------------------------------------------------------------------\n",
    "import numpy as np                                                  # Importing package numpys (For Numerical Python)\n",
    "#-------------------------------------------------------------------------------------------------------------------------------\n",
    "import matplotlib.pyplot as plt                                     # Importing pyplot interface using matplotlib\n",
    "import seaborn as sns                                               # Importin seaborm library for interactive visualization\n",
    "%matplotlib inline\n",
    "#-------------------------------------------------------------------------------------------------------------------------------from sklearn import metrics, model_selection                       # For calculating the accuracy for the model\n",
    "from sklearn import metrics\n",
    "from sklearn.preprocessing import StandardScaler     \n",
    "from sklearn.linear_model import LinearRegression\n",
    "from sklearn.tree import DecisionTreeRegressor\n",
    "from sklearn.ensemble import RandomForestRegressor\n",
    "from sklearn.metrics import precision_score                         # For calculating the Precision of the model\n",
    "from sklearn.metrics import recall_score                            # For calculating the recall of the model\n",
    "from sklearn.metrics import precision_recall_curve                  # For precision and recall metric estimation\n",
    "from sklearn.metrics import confusion_matrix                        # For verifying model performance using confusion matrix\n",
    "from sklearn.metrics import f1_score                                # For Checking the F1-Score of our model  \n",
    "from sklearn.metrics import roc_curve  \n",
    "from sklearn.metrics import accuracy_score                                # For Roc-Auc metric estimation\n",
    "from sklearn.model_selection import train_test_split   \n",
    "from sklearn.metrics import mean_squared_error\n",
    "import math\n",
    "#-------------------------------------------------------------------------------------------------------------------------------\n",
    "import warnings                                                     # Importing warning to disable runtime warnings\n",
    "warnings.filterwarnings(\"ignore\")                                   # Warnings will appear only once"
   ]
  },
  {
   "cell_type": "markdown",
   "metadata": {
    "id": "H0muZAkqgGD4"
   },
   "source": [
    "---\n",
    "<a name = Section4></a>\n",
    "# **4. Data Acquisition & Description**\n",
    "---\n",
    "\n",
    "he dataset contains weekly retail scan data for National Retail Volume (units) and price.\n",
    "\n",
    "Retail scan data comes directly from retailers’ cash registers based on actual retail sales of Hass avocados.\n",
    "\n",
    "The column AveragePrice is the average price of a single avocado.\n",
    "\n",
    "This is the data that we have to predict for future samples.\n",
    "\n",
    "- The Data can be retrieved from the attached <a href = \"https://raw.githubusercontent.com/insaid2018/Term-2/master/Projects/avocado.csv\">**link**</a>.\n",
    "\n",
    "| Column Name | Description |\n",
    "| :-- | :--| \n",
    "|Id\t|Unique identity of each observation|\n",
    "|Date|The date of the observation|\n",
    "|AveragePrice|The average price of a single avocado|\n",
    "|Total Volume| Total number of avocados sold|\n",
    "|4046\t|Total number of avocados with PLU 4046 sold|\n",
    "|4225\t|Total number of avocados with PLU 4225 sold|\n",
    "|4770\t|Total number of avocados with PLU 4770 sold|\n",
    "|Total Bags\t|Total number of bags sold|\n",
    "|Small Bags\t|Total number of small bags sold|\n",
    "|Large Bags\t|Total number of large bags sold|\n",
    "|XLarge Bags|\tTotal number of extra-large bags sold|\n",
    "|type\t|Type of an avocado (conventional or organic)|\n",
    "|year\t|The year of observation|\n",
    "|Region|\tThe city or region of the observation|\n",
    "\n",
    "\n"
   ]
  },
  {
   "cell_type": "code",
   "execution_count": 3,
   "metadata": {
    "colab": {
     "base_uri": "https://localhost:8080/",
     "height": 212
    },
    "executionInfo": {
     "elapsed": 959,
     "status": "ok",
     "timestamp": 1602240308431,
     "user": {
      "displayName": "Varun Rao",
      "photoUrl": "",
      "userId": "01668619371257134222"
     },
     "user_tz": -330
    },
    "id": "LcnQY15yLyg6",
    "outputId": "2499ab11-9166-45bc-f130-0c27e333733c"
   },
   "outputs": [
    {
     "name": "stdout",
     "output_type": "stream",
     "text": [
      "Shape of data set is  (14599, 14)\n"
     ]
    },
    {
     "data": {
      "text/html": [
       "<div>\n",
       "<style scoped>\n",
       "    .dataframe tbody tr th:only-of-type {\n",
       "        vertical-align: middle;\n",
       "    }\n",
       "\n",
       "    .dataframe tbody tr th {\n",
       "        vertical-align: top;\n",
       "    }\n",
       "\n",
       "    .dataframe thead th {\n",
       "        text-align: right;\n",
       "    }\n",
       "</style>\n",
       "<table border=\"1\" class=\"dataframe\">\n",
       "  <thead>\n",
       "    <tr style=\"text-align: right;\">\n",
       "      <th></th>\n",
       "      <th>Id</th>\n",
       "      <th>Date</th>\n",
       "      <th>AveragePrice</th>\n",
       "      <th>Total Volume</th>\n",
       "      <th>4046</th>\n",
       "      <th>4225</th>\n",
       "      <th>4770</th>\n",
       "      <th>Total Bags</th>\n",
       "      <th>Small Bags</th>\n",
       "      <th>Large Bags</th>\n",
       "      <th>XLarge Bags</th>\n",
       "      <th>type</th>\n",
       "      <th>year</th>\n",
       "      <th>region</th>\n",
       "    </tr>\n",
       "  </thead>\n",
       "  <tbody>\n",
       "    <tr>\n",
       "      <th>0</th>\n",
       "      <td>14761</td>\n",
       "      <td>2017-08-20</td>\n",
       "      <td>1.86000</td>\n",
       "      <td>2584.08000</td>\n",
       "      <td>61.21000</td>\n",
       "      <td>143.82000</td>\n",
       "      <td>0.00000</td>\n",
       "      <td>2379.05000</td>\n",
       "      <td>2379.05000</td>\n",
       "      <td>0.00000</td>\n",
       "      <td>0.00000</td>\n",
       "      <td>organic</td>\n",
       "      <td>2017</td>\n",
       "      <td>Albany</td>\n",
       "    </tr>\n",
       "    <tr>\n",
       "      <th>1</th>\n",
       "      <td>6843</td>\n",
       "      <td>2017-11-12</td>\n",
       "      <td>1.14000</td>\n",
       "      <td>100811.00000</td>\n",
       "      <td>3181.00000</td>\n",
       "      <td>43510.00000</td>\n",
       "      <td>86.00000</td>\n",
       "      <td>54034.00000</td>\n",
       "      <td>11788.00000</td>\n",
       "      <td>42246.00000</td>\n",
       "      <td>0.00000</td>\n",
       "      <td>conventional</td>\n",
       "      <td>2017</td>\n",
       "      <td>Louisville</td>\n",
       "    </tr>\n",
       "    <tr>\n",
       "      <th>2</th>\n",
       "      <td>7306</td>\n",
       "      <td>2017-02-12</td>\n",
       "      <td>0.95000</td>\n",
       "      <td>430096.94000</td>\n",
       "      <td>242212.80000</td>\n",
       "      <td>81697.52000</td>\n",
       "      <td>264.25000</td>\n",
       "      <td>105922.37000</td>\n",
       "      <td>48557.37000</td>\n",
       "      <td>57365.00000</td>\n",
       "      <td>0.00000</td>\n",
       "      <td>conventional</td>\n",
       "      <td>2017</td>\n",
       "      <td>Orlando</td>\n",
       "    </tr>\n",
       "    <tr>\n",
       "      <th>3</th>\n",
       "      <td>12329</td>\n",
       "      <td>2016-05-22</td>\n",
       "      <td>1.71000</td>\n",
       "      <td>5433.16000</td>\n",
       "      <td>437.48000</td>\n",
       "      <td>2422.71000</td>\n",
       "      <td>544.63000</td>\n",
       "      <td>2028.34000</td>\n",
       "      <td>2021.67000</td>\n",
       "      <td>6.67000</td>\n",
       "      <td>0.00000</td>\n",
       "      <td>organic</td>\n",
       "      <td>2016</td>\n",
       "      <td>Charlotte</td>\n",
       "    </tr>\n",
       "    <tr>\n",
       "      <th>4</th>\n",
       "      <td>12036</td>\n",
       "      <td>2016-01-10</td>\n",
       "      <td>1.66000</td>\n",
       "      <td>5614.09000</td>\n",
       "      <td>2123.47000</td>\n",
       "      <td>2121.26000</td>\n",
       "      <td>0.00000</td>\n",
       "      <td>1369.36000</td>\n",
       "      <td>392.02000</td>\n",
       "      <td>977.34000</td>\n",
       "      <td>0.00000</td>\n",
       "      <td>organic</td>\n",
       "      <td>2016</td>\n",
       "      <td>Atlanta</td>\n",
       "    </tr>\n",
       "  </tbody>\n",
       "</table>\n",
       "</div>"
      ],
      "text/plain": [
       "      Id        Date  AveragePrice  Total Volume         4046        4225  \\\n",
       "0  14761  2017-08-20       1.86000    2584.08000     61.21000   143.82000   \n",
       "1   6843  2017-11-12       1.14000  100811.00000   3181.00000 43510.00000   \n",
       "2   7306  2017-02-12       0.95000  430096.94000 242212.80000 81697.52000   \n",
       "3  12329  2016-05-22       1.71000    5433.16000    437.48000  2422.71000   \n",
       "4  12036  2016-01-10       1.66000    5614.09000   2123.47000  2121.26000   \n",
       "\n",
       "       4770   Total Bags  Small Bags  Large Bags  XLarge Bags          type  \\\n",
       "0   0.00000   2379.05000  2379.05000     0.00000      0.00000       organic   \n",
       "1  86.00000  54034.00000 11788.00000 42246.00000      0.00000  conventional   \n",
       "2 264.25000 105922.37000 48557.37000 57365.00000      0.00000  conventional   \n",
       "3 544.63000   2028.34000  2021.67000     6.67000      0.00000       organic   \n",
       "4   0.00000   1369.36000   392.02000   977.34000      0.00000       organic   \n",
       "\n",
       "   year      region  \n",
       "0  2017      Albany  \n",
       "1  2017  Louisville  \n",
       "2  2017     Orlando  \n",
       "3  2016   Charlotte  \n",
       "4  2016     Atlanta  "
      ]
     },
     "execution_count": 3,
     "metadata": {},
     "output_type": "execute_result"
    }
   ],
   "source": [
    "df_train = pd.read_csv(r\"C:\\Users\\aksha\\Downloads\\INSAID\\Project\\Project  ML Intermediate\\avocado_train.csv\")\n",
    "print('Shape of data set is ',df_train.shape)\n",
    "df_train.head()"
   ]
  },
  {
   "cell_type": "code",
   "execution_count": 4,
   "metadata": {},
   "outputs": [
    {
     "name": "stdout",
     "output_type": "stream",
     "text": [
      "Shape of data set is  (3650, 13)\n"
     ]
    },
    {
     "data": {
      "text/html": [
       "<div>\n",
       "<style scoped>\n",
       "    .dataframe tbody tr th:only-of-type {\n",
       "        vertical-align: middle;\n",
       "    }\n",
       "\n",
       "    .dataframe tbody tr th {\n",
       "        vertical-align: top;\n",
       "    }\n",
       "\n",
       "    .dataframe thead th {\n",
       "        text-align: right;\n",
       "    }\n",
       "</style>\n",
       "<table border=\"1\" class=\"dataframe\">\n",
       "  <thead>\n",
       "    <tr style=\"text-align: right;\">\n",
       "      <th></th>\n",
       "      <th>Id</th>\n",
       "      <th>Date</th>\n",
       "      <th>Total Volume</th>\n",
       "      <th>4046</th>\n",
       "      <th>4225</th>\n",
       "      <th>4770</th>\n",
       "      <th>Total Bags</th>\n",
       "      <th>Small Bags</th>\n",
       "      <th>Large Bags</th>\n",
       "      <th>XLarge Bags</th>\n",
       "      <th>type</th>\n",
       "      <th>year</th>\n",
       "      <th>region</th>\n",
       "    </tr>\n",
       "  </thead>\n",
       "  <tbody>\n",
       "    <tr>\n",
       "      <th>0</th>\n",
       "      <td>11137</td>\n",
       "      <td>2015-05-03</td>\n",
       "      <td>12425.42000</td>\n",
       "      <td>426.78000</td>\n",
       "      <td>6174.20000</td>\n",
       "      <td>548.21000</td>\n",
       "      <td>5276.23000</td>\n",
       "      <td>2313.33000</td>\n",
       "      <td>2962.90000</td>\n",
       "      <td>0.00000</td>\n",
       "      <td>organic</td>\n",
       "      <td>2015</td>\n",
       "      <td>RichmondNorfolk</td>\n",
       "    </tr>\n",
       "    <tr>\n",
       "      <th>1</th>\n",
       "      <td>16503</td>\n",
       "      <td>2017-10-08</td>\n",
       "      <td>11837.20000</td>\n",
       "      <td>2749.91000</td>\n",
       "      <td>124.43000</td>\n",
       "      <td>0.00000</td>\n",
       "      <td>8962.86000</td>\n",
       "      <td>8921.88000</td>\n",
       "      <td>40.98000</td>\n",
       "      <td>0.00000</td>\n",
       "      <td>organic</td>\n",
       "      <td>2017</td>\n",
       "      <td>PhoenixTucson</td>\n",
       "    </tr>\n",
       "    <tr>\n",
       "      <th>2</th>\n",
       "      <td>6438</td>\n",
       "      <td>2017-07-02</td>\n",
       "      <td>4250394.01000</td>\n",
       "      <td>740503.01000</td>\n",
       "      <td>1423924.97000</td>\n",
       "      <td>356791.68000</td>\n",
       "      <td>1729174.35000</td>\n",
       "      <td>1157601.31000</td>\n",
       "      <td>485376.01000</td>\n",
       "      <td>86197.03000</td>\n",
       "      <td>conventional</td>\n",
       "      <td>2017</td>\n",
       "      <td>GreatLakes</td>\n",
       "    </tr>\n",
       "    <tr>\n",
       "      <th>3</th>\n",
       "      <td>8247</td>\n",
       "      <td>2017-05-14</td>\n",
       "      <td>74951.66000</td>\n",
       "      <td>1032.62000</td>\n",
       "      <td>43170.45000</td>\n",
       "      <td>42.00000</td>\n",
       "      <td>30706.59000</td>\n",
       "      <td>28525.65000</td>\n",
       "      <td>2180.94000</td>\n",
       "      <td>0.00000</td>\n",
       "      <td>conventional</td>\n",
       "      <td>2017</td>\n",
       "      <td>Syracuse</td>\n",
       "    </tr>\n",
       "    <tr>\n",
       "      <th>4</th>\n",
       "      <td>10481</td>\n",
       "      <td>2015-12-13</td>\n",
       "      <td>4594.71000</td>\n",
       "      <td>592.64000</td>\n",
       "      <td>2602.48000</td>\n",
       "      <td>0.00000</td>\n",
       "      <td>1399.59000</td>\n",
       "      <td>696.67000</td>\n",
       "      <td>702.92000</td>\n",
       "      <td>0.00000</td>\n",
       "      <td>organic</td>\n",
       "      <td>2015</td>\n",
       "      <td>Nashville</td>\n",
       "    </tr>\n",
       "  </tbody>\n",
       "</table>\n",
       "</div>"
      ],
      "text/plain": [
       "      Id        Date  Total Volume         4046          4225         4770  \\\n",
       "0  11137  2015-05-03   12425.42000    426.78000    6174.20000    548.21000   \n",
       "1  16503  2017-10-08   11837.20000   2749.91000     124.43000      0.00000   \n",
       "2   6438  2017-07-02 4250394.01000 740503.01000 1423924.97000 356791.68000   \n",
       "3   8247  2017-05-14   74951.66000   1032.62000   43170.45000     42.00000   \n",
       "4  10481  2015-12-13    4594.71000    592.64000    2602.48000      0.00000   \n",
       "\n",
       "     Total Bags    Small Bags   Large Bags  XLarge Bags          type  year  \\\n",
       "0    5276.23000    2313.33000   2962.90000      0.00000       organic  2015   \n",
       "1    8962.86000    8921.88000     40.98000      0.00000       organic  2017   \n",
       "2 1729174.35000 1157601.31000 485376.01000  86197.03000  conventional  2017   \n",
       "3   30706.59000   28525.65000   2180.94000      0.00000  conventional  2017   \n",
       "4    1399.59000     696.67000    702.92000      0.00000       organic  2015   \n",
       "\n",
       "            region  \n",
       "0  RichmondNorfolk  \n",
       "1    PhoenixTucson  \n",
       "2       GreatLakes  \n",
       "3         Syracuse  \n",
       "4        Nashville  "
      ]
     },
     "execution_count": 4,
     "metadata": {},
     "output_type": "execute_result"
    }
   ],
   "source": [
    "df_test = pd.read_csv(r\"C:\\Users\\aksha\\Downloads\\INSAID\\Project\\Project  ML Intermediate\\avocado_test.csv\")\n",
    "print('Shape of data set is ',df_test.shape)\n",
    "df_test.head()"
   ]
  },
  {
   "cell_type": "markdown",
   "metadata": {
    "id": "pXPr7iRDxMd8"
   },
   "source": [
    "__Observations:__\n",
    "\n",
    "**Train Dataset**- \n",
    "- The train set contains 14599 rows and 14 columns.\n",
    "- The last column AveragePrice is the target variable.\n",
    "\n",
    "**Test Dataset**- \n",
    "- The test set contains 3650 rows and 13 columns.\n",
    "- The test set doesn’t contain the AveragePrice column.\n",
    "- It needs to be predicted for the test set."
   ]
  },
  {
   "cell_type": "markdown",
   "metadata": {
    "id": "IWLkJZjWx2s9"
   },
   "source": [
    "<a name = Section41></a>\n",
    "### **4.1 Data Description**\n",
    "\n",
    "- In this section we will get **information about the data** and see some observations."
   ]
  },
  {
   "cell_type": "code",
   "execution_count": 5,
   "metadata": {
    "colab": {
     "base_uri": "https://localhost:8080/",
     "height": 284
    },
    "executionInfo": {
     "elapsed": 752,
     "status": "ok",
     "timestamp": 1602240312589,
     "user": {
      "displayName": "Varun Rao",
      "photoUrl": "",
      "userId": "01668619371257134222"
     },
     "user_tz": -330
    },
    "id": "WnCXRrD-53TQ",
    "outputId": "010579e9-654e-42d9-e51f-3540b610e36e"
   },
   "outputs": [
    {
     "data": {
      "text/html": [
       "<div>\n",
       "<style scoped>\n",
       "    .dataframe tbody tr th:only-of-type {\n",
       "        vertical-align: middle;\n",
       "    }\n",
       "\n",
       "    .dataframe tbody tr th {\n",
       "        vertical-align: top;\n",
       "    }\n",
       "\n",
       "    .dataframe thead th {\n",
       "        text-align: right;\n",
       "    }\n",
       "</style>\n",
       "<table border=\"1\" class=\"dataframe\">\n",
       "  <thead>\n",
       "    <tr style=\"text-align: right;\">\n",
       "      <th></th>\n",
       "      <th>Id</th>\n",
       "      <th>AveragePrice</th>\n",
       "      <th>Total Volume</th>\n",
       "      <th>4046</th>\n",
       "      <th>4225</th>\n",
       "      <th>4770</th>\n",
       "      <th>Total Bags</th>\n",
       "      <th>Small Bags</th>\n",
       "      <th>Large Bags</th>\n",
       "      <th>XLarge Bags</th>\n",
       "      <th>year</th>\n",
       "    </tr>\n",
       "  </thead>\n",
       "  <tbody>\n",
       "    <tr>\n",
       "      <th>count</th>\n",
       "      <td>14599.00000</td>\n",
       "      <td>14599.00000</td>\n",
       "      <td>14599.00000</td>\n",
       "      <td>14599.00000</td>\n",
       "      <td>14599.00000</td>\n",
       "      <td>14599.00000</td>\n",
       "      <td>14599.00000</td>\n",
       "      <td>14599.00000</td>\n",
       "      <td>14599.00000</td>\n",
       "      <td>14599.00000</td>\n",
       "      <td>14599.00000</td>\n",
       "    </tr>\n",
       "    <tr>\n",
       "      <th>mean</th>\n",
       "      <td>9116.12090</td>\n",
       "      <td>1.40917</td>\n",
       "      <td>813661.38208</td>\n",
       "      <td>278761.62760</td>\n",
       "      <td>283515.65090</td>\n",
       "      <td>21755.64303</td>\n",
       "      <td>229626.44096</td>\n",
       "      <td>174635.36528</td>\n",
       "      <td>51995.45303</td>\n",
       "      <td>2995.62224</td>\n",
       "      <td>2016.14617</td>\n",
       "    </tr>\n",
       "    <tr>\n",
       "      <th>std</th>\n",
       "      <td>5279.98990</td>\n",
       "      <td>0.40452</td>\n",
       "      <td>3292013.05240</td>\n",
       "      <td>1206792.16214</td>\n",
       "      <td>1150214.74644</td>\n",
       "      <td>102560.78581</td>\n",
       "      <td>942977.45607</td>\n",
       "      <td>713921.22210</td>\n",
       "      <td>234344.10351</td>\n",
       "      <td>17313.44516</td>\n",
       "      <td>0.93757</td>\n",
       "    </tr>\n",
       "    <tr>\n",
       "      <th>min</th>\n",
       "      <td>2.00000</td>\n",
       "      <td>0.44000</td>\n",
       "      <td>385.55000</td>\n",
       "      <td>0.00000</td>\n",
       "      <td>0.00000</td>\n",
       "      <td>0.00000</td>\n",
       "      <td>0.00000</td>\n",
       "      <td>0.00000</td>\n",
       "      <td>0.00000</td>\n",
       "      <td>0.00000</td>\n",
       "      <td>2015.00000</td>\n",
       "    </tr>\n",
       "    <tr>\n",
       "      <th>25%</th>\n",
       "      <td>4538.50000</td>\n",
       "      <td>1.10000</td>\n",
       "      <td>10808.23000</td>\n",
       "      <td>849.36000</td>\n",
       "      <td>3018.25500</td>\n",
       "      <td>0.00000</td>\n",
       "      <td>5040.90000</td>\n",
       "      <td>2828.89000</td>\n",
       "      <td>131.45500</td>\n",
       "      <td>0.00000</td>\n",
       "      <td>2015.00000</td>\n",
       "    </tr>\n",
       "    <tr>\n",
       "      <th>50%</th>\n",
       "      <td>9125.00000</td>\n",
       "      <td>1.37000</td>\n",
       "      <td>107018.62000</td>\n",
       "      <td>8425.39000</td>\n",
       "      <td>28907.47000</td>\n",
       "      <td>180.72000</td>\n",
       "      <td>39602.96000</td>\n",
       "      <td>26311.76000</td>\n",
       "      <td>2621.75000</td>\n",
       "      <td>0.00000</td>\n",
       "      <td>2016.00000</td>\n",
       "    </tr>\n",
       "    <tr>\n",
       "      <th>75%</th>\n",
       "      <td>13698.50000</td>\n",
       "      <td>1.67000</td>\n",
       "      <td>426170.21000</td>\n",
       "      <td>108782.22000</td>\n",
       "      <td>145160.54500</td>\n",
       "      <td>6136.66500</td>\n",
       "      <td>109645.32500</td>\n",
       "      <td>83000.46500</td>\n",
       "      <td>21511.12000</td>\n",
       "      <td>127.94000</td>\n",
       "      <td>2017.00000</td>\n",
       "    </tr>\n",
       "    <tr>\n",
       "      <th>max</th>\n",
       "      <td>18249.00000</td>\n",
       "      <td>3.25000</td>\n",
       "      <td>62505646.52000</td>\n",
       "      <td>21620180.90000</td>\n",
       "      <td>20470572.61000</td>\n",
       "      <td>2546439.11000</td>\n",
       "      <td>19373134.37000</td>\n",
       "      <td>13384586.80000</td>\n",
       "      <td>5719096.61000</td>\n",
       "      <td>551693.65000</td>\n",
       "      <td>2018.00000</td>\n",
       "    </tr>\n",
       "  </tbody>\n",
       "</table>\n",
       "</div>"
      ],
      "text/plain": [
       "               Id  AveragePrice   Total Volume           4046           4225  \\\n",
       "count 14599.00000   14599.00000    14599.00000    14599.00000    14599.00000   \n",
       "mean   9116.12090       1.40917   813661.38208   278761.62760   283515.65090   \n",
       "std    5279.98990       0.40452  3292013.05240  1206792.16214  1150214.74644   \n",
       "min       2.00000       0.44000      385.55000        0.00000        0.00000   \n",
       "25%    4538.50000       1.10000    10808.23000      849.36000     3018.25500   \n",
       "50%    9125.00000       1.37000   107018.62000     8425.39000    28907.47000   \n",
       "75%   13698.50000       1.67000   426170.21000   108782.22000   145160.54500   \n",
       "max   18249.00000       3.25000 62505646.52000 21620180.90000 20470572.61000   \n",
       "\n",
       "               4770     Total Bags     Small Bags    Large Bags  XLarge Bags  \\\n",
       "count   14599.00000    14599.00000    14599.00000   14599.00000  14599.00000   \n",
       "mean    21755.64303   229626.44096   174635.36528   51995.45303   2995.62224   \n",
       "std    102560.78581   942977.45607   713921.22210  234344.10351  17313.44516   \n",
       "min         0.00000        0.00000        0.00000       0.00000      0.00000   \n",
       "25%         0.00000     5040.90000     2828.89000     131.45500      0.00000   \n",
       "50%       180.72000    39602.96000    26311.76000    2621.75000      0.00000   \n",
       "75%      6136.66500   109645.32500    83000.46500   21511.12000    127.94000   \n",
       "max   2546439.11000 19373134.37000 13384586.80000 5719096.61000 551693.65000   \n",
       "\n",
       "             year  \n",
       "count 14599.00000  \n",
       "mean   2016.14617  \n",
       "std       0.93757  \n",
       "min    2015.00000  \n",
       "25%    2015.00000  \n",
       "50%    2016.00000  \n",
       "75%    2017.00000  \n",
       "max    2018.00000  "
      ]
     },
     "execution_count": 5,
     "metadata": {},
     "output_type": "execute_result"
    }
   ],
   "source": [
    "df_train.describe()"
   ]
  },
  {
   "cell_type": "code",
   "execution_count": 6,
   "metadata": {},
   "outputs": [
    {
     "data": {
      "text/html": [
       "<div>\n",
       "<style scoped>\n",
       "    .dataframe tbody tr th:only-of-type {\n",
       "        vertical-align: middle;\n",
       "    }\n",
       "\n",
       "    .dataframe tbody tr th {\n",
       "        vertical-align: top;\n",
       "    }\n",
       "\n",
       "    .dataframe thead th {\n",
       "        text-align: right;\n",
       "    }\n",
       "</style>\n",
       "<table border=\"1\" class=\"dataframe\">\n",
       "  <thead>\n",
       "    <tr style=\"text-align: right;\">\n",
       "      <th></th>\n",
       "      <th>Id</th>\n",
       "      <th>Total Volume</th>\n",
       "      <th>4046</th>\n",
       "      <th>4225</th>\n",
       "      <th>4770</th>\n",
       "      <th>Total Bags</th>\n",
       "      <th>Small Bags</th>\n",
       "      <th>Large Bags</th>\n",
       "      <th>XLarge Bags</th>\n",
       "      <th>year</th>\n",
       "    </tr>\n",
       "  </thead>\n",
       "  <tbody>\n",
       "    <tr>\n",
       "      <th>count</th>\n",
       "      <td>3650.00000</td>\n",
       "      <td>3650.00000</td>\n",
       "      <td>3650.00000</td>\n",
       "      <td>3650.00000</td>\n",
       "      <td>3650.00000</td>\n",
       "      <td>3650.00000</td>\n",
       "      <td>3650.00000</td>\n",
       "      <td>3650.00000</td>\n",
       "      <td>3650.00000</td>\n",
       "      <td>3650.00000</td>\n",
       "    </tr>\n",
       "    <tr>\n",
       "      <th>mean</th>\n",
       "      <td>9160.51397</td>\n",
       "      <td>998564.40450</td>\n",
       "      <td>349991.70901</td>\n",
       "      <td>341707.04942</td>\n",
       "      <td>27175.81084</td>\n",
       "      <td>279687.50325</td>\n",
       "      <td>212429.90130</td>\n",
       "      <td>63707.98680</td>\n",
       "      <td>3549.61324</td>\n",
       "      <td>2016.15479</td>\n",
       "    </tr>\n",
       "    <tr>\n",
       "      <th>std</th>\n",
       "      <td>5221.22826</td>\n",
       "      <td>4032615.18325</td>\n",
       "      <td>1473789.31061</td>\n",
       "      <td>1398324.37486</td>\n",
       "      <td>125091.93205</td>\n",
       "      <td>1142300.88714</td>\n",
       "      <td>862677.92137</td>\n",
       "      <td>278993.51637</td>\n",
       "      <td>19131.61133</td>\n",
       "      <td>0.94947</td>\n",
       "    </tr>\n",
       "    <tr>\n",
       "      <th>min</th>\n",
       "      <td>1.00000</td>\n",
       "      <td>84.56000</td>\n",
       "      <td>0.00000</td>\n",
       "      <td>0.00000</td>\n",
       "      <td>0.00000</td>\n",
       "      <td>0.00000</td>\n",
       "      <td>0.00000</td>\n",
       "      <td>0.00000</td>\n",
       "      <td>0.00000</td>\n",
       "      <td>2015.00000</td>\n",
       "    </tr>\n",
       "    <tr>\n",
       "      <th>25%</th>\n",
       "      <td>4680.25000</td>\n",
       "      <td>11022.60250</td>\n",
       "      <td>884.87250</td>\n",
       "      <td>2938.22250</td>\n",
       "      <td>0.00000</td>\n",
       "      <td>5284.00250</td>\n",
       "      <td>2942.85750</td>\n",
       "      <td>108.86000</td>\n",
       "      <td>0.00000</td>\n",
       "      <td>2015.00000</td>\n",
       "    </tr>\n",
       "    <tr>\n",
       "      <th>50%</th>\n",
       "      <td>9131.00000</td>\n",
       "      <td>110033.17000</td>\n",
       "      <td>9726.29000</td>\n",
       "      <td>29606.70000</td>\n",
       "      <td>206.36000</td>\n",
       "      <td>40004.60500</td>\n",
       "      <td>26664.19500</td>\n",
       "      <td>2831.68000</td>\n",
       "      <td>0.00000</td>\n",
       "      <td>2016.00000</td>\n",
       "    </tr>\n",
       "    <tr>\n",
       "      <th>75%</th>\n",
       "      <td>13653.75000</td>\n",
       "      <td>462808.32250</td>\n",
       "      <td>120424.65250</td>\n",
       "      <td>165423.71750</td>\n",
       "      <td>6666.45750</td>\n",
       "      <td>119304.08500</td>\n",
       "      <td>84908.67750</td>\n",
       "      <td>24639.00750</td>\n",
       "      <td>147.99000</td>\n",
       "      <td>2017.00000</td>\n",
       "    </tr>\n",
       "    <tr>\n",
       "      <th>max</th>\n",
       "      <td>18248.00000</td>\n",
       "      <td>61034457.10000</td>\n",
       "      <td>22743616.17000</td>\n",
       "      <td>20328161.55000</td>\n",
       "      <td>1800065.57000</td>\n",
       "      <td>16298296.29000</td>\n",
       "      <td>12567155.58000</td>\n",
       "      <td>3789722.90000</td>\n",
       "      <td>377661.06000</td>\n",
       "      <td>2018.00000</td>\n",
       "    </tr>\n",
       "  </tbody>\n",
       "</table>\n",
       "</div>"
      ],
      "text/plain": [
       "               Id   Total Volume           4046           4225          4770  \\\n",
       "count  3650.00000     3650.00000     3650.00000     3650.00000    3650.00000   \n",
       "mean   9160.51397   998564.40450   349991.70901   341707.04942   27175.81084   \n",
       "std    5221.22826  4032615.18325  1473789.31061  1398324.37486  125091.93205   \n",
       "min       1.00000       84.56000        0.00000        0.00000       0.00000   \n",
       "25%    4680.25000    11022.60250      884.87250     2938.22250       0.00000   \n",
       "50%    9131.00000   110033.17000     9726.29000    29606.70000     206.36000   \n",
       "75%   13653.75000   462808.32250   120424.65250   165423.71750    6666.45750   \n",
       "max   18248.00000 61034457.10000 22743616.17000 20328161.55000 1800065.57000   \n",
       "\n",
       "          Total Bags     Small Bags    Large Bags  XLarge Bags       year  \n",
       "count     3650.00000     3650.00000    3650.00000   3650.00000 3650.00000  \n",
       "mean    279687.50325   212429.90130   63707.98680   3549.61324 2016.15479  \n",
       "std    1142300.88714   862677.92137  278993.51637  19131.61133    0.94947  \n",
       "min          0.00000        0.00000       0.00000      0.00000 2015.00000  \n",
       "25%       5284.00250     2942.85750     108.86000      0.00000 2015.00000  \n",
       "50%      40004.60500    26664.19500    2831.68000      0.00000 2016.00000  \n",
       "75%     119304.08500    84908.67750   24639.00750    147.99000 2017.00000  \n",
       "max   16298296.29000 12567155.58000 3789722.90000 377661.06000 2018.00000  "
      ]
     },
     "execution_count": 6,
     "metadata": {},
     "output_type": "execute_result"
    }
   ],
   "source": [
    "df_test.describe()"
   ]
  },
  {
   "cell_type": "markdown",
   "metadata": {
    "id": "z9uuutUfUwVr"
   },
   "source": [
    "**Observation:**\n",
    "\n",
    "- We can observe that there are no null values and inconsistencies in the dataset."
   ]
  },
  {
   "cell_type": "markdown",
   "metadata": {
    "id": "ofXq-dE8x5lZ"
   },
   "source": [
    "<a name = Section42></a>\n",
    "### **4.2 Data Information**\n",
    "\n",
    "- In this section we will see the **information about the types of features**."
   ]
  },
  {
   "cell_type": "code",
   "execution_count": 7,
   "metadata": {
    "colab": {
     "base_uri": "https://localhost:8080/",
     "height": 168
    },
    "executionInfo": {
     "elapsed": 952,
     "status": "ok",
     "timestamp": 1602240316541,
     "user": {
      "displayName": "Varun Rao",
      "photoUrl": "",
      "userId": "01668619371257134222"
     },
     "user_tz": -330
    },
    "id": "QwuLcr4d8Ui4",
    "outputId": "836e42fa-bcb6-4271-971a-f97c7ac97130"
   },
   "outputs": [
    {
     "name": "stdout",
     "output_type": "stream",
     "text": [
      "<class 'pandas.core.frame.DataFrame'>\n",
      "RangeIndex: 14599 entries, 0 to 14598\n",
      "Data columns (total 14 columns):\n",
      " #   Column        Non-Null Count  Dtype  \n",
      "---  ------        --------------  -----  \n",
      " 0   Id            14599 non-null  int64  \n",
      " 1   Date          14599 non-null  object \n",
      " 2   AveragePrice  14599 non-null  float64\n",
      " 3   Total Volume  14599 non-null  float64\n",
      " 4   4046          14599 non-null  float64\n",
      " 5   4225          14599 non-null  float64\n",
      " 6   4770          14599 non-null  float64\n",
      " 7   Total Bags    14599 non-null  float64\n",
      " 8   Small Bags    14599 non-null  float64\n",
      " 9   Large Bags    14599 non-null  float64\n",
      " 10  XLarge Bags   14599 non-null  float64\n",
      " 11  type          14599 non-null  object \n",
      " 12  year          14599 non-null  int64  \n",
      " 13  region        14599 non-null  object \n",
      "dtypes: float64(9), int64(2), object(3)\n",
      "memory usage: 4.0 MB\n"
     ]
    }
   ],
   "source": [
    "df_train.info(verbose = True, memory_usage = 'deep', null_counts = True)"
   ]
  },
  {
   "cell_type": "code",
   "execution_count": 8,
   "metadata": {},
   "outputs": [
    {
     "name": "stdout",
     "output_type": "stream",
     "text": [
      "<class 'pandas.core.frame.DataFrame'>\n",
      "RangeIndex: 3650 entries, 0 to 3649\n",
      "Data columns (total 13 columns):\n",
      " #   Column        Non-Null Count  Dtype  \n",
      "---  ------        --------------  -----  \n",
      " 0   Id            3650 non-null   int64  \n",
      " 1   Date          3650 non-null   object \n",
      " 2   Total Volume  3650 non-null   float64\n",
      " 3   4046          3650 non-null   float64\n",
      " 4   4225          3650 non-null   float64\n",
      " 5   4770          3650 non-null   float64\n",
      " 6   Total Bags    3650 non-null   float64\n",
      " 7   Small Bags    3650 non-null   float64\n",
      " 8   Large Bags    3650 non-null   float64\n",
      " 9   XLarge Bags   3650 non-null   float64\n",
      " 10  type          3650 non-null   object \n",
      " 11  year          3650 non-null   int64  \n",
      " 12  region        3650 non-null   object \n",
      "dtypes: float64(8), int64(2), object(3)\n",
      "memory usage: 1001.0 KB\n"
     ]
    }
   ],
   "source": [
    "df_test.info(verbose = True, memory_usage = 'deep', null_counts = True)"
   ]
  },
  {
   "cell_type": "markdown",
   "metadata": {
    "id": "Vx0yT5J7WVpf"
   },
   "source": [
    "**Observation:**\n",
    "\n",
    "- There are **no null values present** in this data set.\n",
    "\n",
    "- **Each feature** except **Date** seems to have **correct data type**."
   ]
  },
  {
   "cell_type": "markdown",
   "metadata": {
    "id": "r0behJ7WzHFy"
   },
   "source": [
    "<a name = Section5></a>\n",
    "\n",
    "---\n",
    "# **5. Data Pre-Processing**\n",
    "---"
   ]
  },
  {
   "cell_type": "markdown",
   "metadata": {
    "id": "_4Hr34Dky1f0"
   },
   "source": [
    "<a name = Section51></a>\n",
    "### **5.1 Pre Profiling Report**\n",
    "\n",
    "- For **quick analysis** pandas profiling is very handy.\n",
    "\n",
    "- It generates profile reports from a pandas DataFrame.\n",
    "\n"
   ]
  },
  {
   "cell_type": "code",
   "execution_count": 9,
   "metadata": {
    "colab": {
     "base_uri": "https://localhost:8080/",
     "height": 34
    },
    "executionInfo": {
     "elapsed": 2607,
     "status": "ok",
     "timestamp": 1602240322816,
     "user": {
      "displayName": "Varun Rao",
      "photoUrl": "",
      "userId": "01668619371257134222"
     },
     "user_tz": -330
    },
    "id": "WiyaudAry1-L",
    "outputId": "91e9ce69-f679-4d1e-f3af-c1490a95ecbb"
   },
   "outputs": [
    {
     "data": {
      "application/vnd.jupyter.widget-view+json": {
       "model_id": "3aa0e4d527984963b786f4d7ad80cb11",
       "version_major": 2,
       "version_minor": 0
      },
      "text/plain": [
       "Summarize dataset:   0%|          | 0/5 [00:00<?, ?it/s]"
      ]
     },
     "metadata": {},
     "output_type": "display_data"
    },
    {
     "data": {
      "application/vnd.jupyter.widget-view+json": {
       "model_id": "a594c1a53b0f4457aab77d37c0471d6e",
       "version_major": 2,
       "version_minor": 0
      },
      "text/plain": [
       "Generate report structure:   0%|          | 0/1 [00:00<?, ?it/s]"
      ]
     },
     "metadata": {},
     "output_type": "display_data"
    },
    {
     "data": {
      "application/vnd.jupyter.widget-view+json": {
       "model_id": "baeb7b03bd3948b295d6102a598e1a71",
       "version_major": 2,
       "version_minor": 0
      },
      "text/plain": [
       "Render HTML:   0%|          | 0/1 [00:00<?, ?it/s]"
      ]
     },
     "metadata": {},
     "output_type": "display_data"
    },
    {
     "data": {
      "application/vnd.jupyter.widget-view+json": {
       "model_id": "815986b4ca8f49dab82390b591631219",
       "version_major": 2,
       "version_minor": 0
      },
      "text/plain": [
       "Export report to file:   0%|          | 0/1 [00:00<?, ?it/s]"
      ]
     },
     "metadata": {},
     "output_type": "display_data"
    },
    {
     "name": "stdout",
     "output_type": "stream",
     "text": [
      "Accomplished!\n"
     ]
    }
   ],
   "source": [
    "profile = ProfileReport(df=df_train)\n",
    "profile.to_file(output_file='Pre Profiling Report.html')\n",
    "print('Accomplished!')"
   ]
  },
  {
   "cell_type": "markdown",
   "metadata": {
    "id": "cCMzzVFI-OcZ"
   },
   "source": [
    "- For each column **statistics** are presented in an interactive HTML report.\n",
    "\n",
    "- The data pre-profiling report can be retrieved from the attached <a href = \"http://localhost:8888/view/Pre%20Profiling%20Report.html\">**link**</a>."
   ]
  },
  {
   "cell_type": "markdown",
   "metadata": {
    "id": "0ZmA7OT0W82u"
   },
   "source": [
    "**Observation:**\n",
    "\n",
    "- Report shows that there are **14 features** out of which **10** are **numeric** and **4** are **categorical**.\n",
    "\n",
    "- There are **no missing values** and **no duplicate values**.\n",
    "\n",
    "- **Date** and **Region** have high cardinality and are uniformly distributed. \n",
    "\n",
    "\n",
    "\n"
   ]
  },
  {
   "cell_type": "markdown",
   "metadata": {},
   "source": [
    "<a name = Section52></a>\n",
    "### **5.2 Pre Processing**"
   ]
  },
  {
   "cell_type": "markdown",
   "metadata": {},
   "source": [
    "\"Date\" is object type not the date type. We have to change its type to date type."
   ]
  },
  {
   "cell_type": "code",
   "execution_count": 25,
   "metadata": {},
   "outputs": [],
   "source": [
    "df_train[\"Date\"]= pd.to_datetime(df_train[\"Date\"])\n",
    "df_train['Month'] = pd.DatetimeIndex(df_train['Date']).month"
   ]
  },
  {
   "cell_type": "code",
   "execution_count": 26,
   "metadata": {},
   "outputs": [
    {
     "data": {
      "text/html": [
       "<div>\n",
       "<style scoped>\n",
       "    .dataframe tbody tr th:only-of-type {\n",
       "        vertical-align: middle;\n",
       "    }\n",
       "\n",
       "    .dataframe tbody tr th {\n",
       "        vertical-align: top;\n",
       "    }\n",
       "\n",
       "    .dataframe thead th {\n",
       "        text-align: right;\n",
       "    }\n",
       "</style>\n",
       "<table border=\"1\" class=\"dataframe\">\n",
       "  <thead>\n",
       "    <tr style=\"text-align: right;\">\n",
       "      <th></th>\n",
       "      <th>Id</th>\n",
       "      <th>Date</th>\n",
       "      <th>AveragePrice</th>\n",
       "      <th>Total Volume</th>\n",
       "      <th>4046</th>\n",
       "      <th>4225</th>\n",
       "      <th>4770</th>\n",
       "      <th>Total Bags</th>\n",
       "      <th>Small Bags</th>\n",
       "      <th>Large Bags</th>\n",
       "      <th>XLarge Bags</th>\n",
       "      <th>type</th>\n",
       "      <th>year</th>\n",
       "      <th>region</th>\n",
       "      <th>Month</th>\n",
       "    </tr>\n",
       "  </thead>\n",
       "  <tbody>\n",
       "    <tr>\n",
       "      <th>0</th>\n",
       "      <td>14761</td>\n",
       "      <td>2017-08-20</td>\n",
       "      <td>1.86000</td>\n",
       "      <td>2584.08000</td>\n",
       "      <td>61.21000</td>\n",
       "      <td>143.82000</td>\n",
       "      <td>0.00000</td>\n",
       "      <td>2379.05000</td>\n",
       "      <td>2379.05000</td>\n",
       "      <td>0.00000</td>\n",
       "      <td>0.00000</td>\n",
       "      <td>organic</td>\n",
       "      <td>2017</td>\n",
       "      <td>Albany</td>\n",
       "      <td>8</td>\n",
       "    </tr>\n",
       "    <tr>\n",
       "      <th>1</th>\n",
       "      <td>6843</td>\n",
       "      <td>2017-11-12</td>\n",
       "      <td>1.14000</td>\n",
       "      <td>100811.00000</td>\n",
       "      <td>3181.00000</td>\n",
       "      <td>43510.00000</td>\n",
       "      <td>86.00000</td>\n",
       "      <td>54034.00000</td>\n",
       "      <td>11788.00000</td>\n",
       "      <td>42246.00000</td>\n",
       "      <td>0.00000</td>\n",
       "      <td>conventional</td>\n",
       "      <td>2017</td>\n",
       "      <td>Louisville</td>\n",
       "      <td>11</td>\n",
       "    </tr>\n",
       "    <tr>\n",
       "      <th>2</th>\n",
       "      <td>7306</td>\n",
       "      <td>2017-02-12</td>\n",
       "      <td>0.95000</td>\n",
       "      <td>430096.94000</td>\n",
       "      <td>242212.80000</td>\n",
       "      <td>81697.52000</td>\n",
       "      <td>264.25000</td>\n",
       "      <td>105922.37000</td>\n",
       "      <td>48557.37000</td>\n",
       "      <td>57365.00000</td>\n",
       "      <td>0.00000</td>\n",
       "      <td>conventional</td>\n",
       "      <td>2017</td>\n",
       "      <td>Orlando</td>\n",
       "      <td>2</td>\n",
       "    </tr>\n",
       "    <tr>\n",
       "      <th>3</th>\n",
       "      <td>12329</td>\n",
       "      <td>2016-05-22</td>\n",
       "      <td>1.71000</td>\n",
       "      <td>5433.16000</td>\n",
       "      <td>437.48000</td>\n",
       "      <td>2422.71000</td>\n",
       "      <td>544.63000</td>\n",
       "      <td>2028.34000</td>\n",
       "      <td>2021.67000</td>\n",
       "      <td>6.67000</td>\n",
       "      <td>0.00000</td>\n",
       "      <td>organic</td>\n",
       "      <td>2016</td>\n",
       "      <td>Charlotte</td>\n",
       "      <td>5</td>\n",
       "    </tr>\n",
       "    <tr>\n",
       "      <th>4</th>\n",
       "      <td>12036</td>\n",
       "      <td>2016-01-10</td>\n",
       "      <td>1.66000</td>\n",
       "      <td>5614.09000</td>\n",
       "      <td>2123.47000</td>\n",
       "      <td>2121.26000</td>\n",
       "      <td>0.00000</td>\n",
       "      <td>1369.36000</td>\n",
       "      <td>392.02000</td>\n",
       "      <td>977.34000</td>\n",
       "      <td>0.00000</td>\n",
       "      <td>organic</td>\n",
       "      <td>2016</td>\n",
       "      <td>Atlanta</td>\n",
       "      <td>1</td>\n",
       "    </tr>\n",
       "  </tbody>\n",
       "</table>\n",
       "</div>"
      ],
      "text/plain": [
       "      Id       Date  AveragePrice  Total Volume         4046        4225  \\\n",
       "0  14761 2017-08-20       1.86000    2584.08000     61.21000   143.82000   \n",
       "1   6843 2017-11-12       1.14000  100811.00000   3181.00000 43510.00000   \n",
       "2   7306 2017-02-12       0.95000  430096.94000 242212.80000 81697.52000   \n",
       "3  12329 2016-05-22       1.71000    5433.16000    437.48000  2422.71000   \n",
       "4  12036 2016-01-10       1.66000    5614.09000   2123.47000  2121.26000   \n",
       "\n",
       "       4770   Total Bags  Small Bags  Large Bags  XLarge Bags          type  \\\n",
       "0   0.00000   2379.05000  2379.05000     0.00000      0.00000       organic   \n",
       "1  86.00000  54034.00000 11788.00000 42246.00000      0.00000  conventional   \n",
       "2 264.25000 105922.37000 48557.37000 57365.00000      0.00000  conventional   \n",
       "3 544.63000   2028.34000  2021.67000     6.67000      0.00000       organic   \n",
       "4   0.00000   1369.36000   392.02000   977.34000      0.00000       organic   \n",
       "\n",
       "   year      region  Month  \n",
       "0  2017      Albany      8  \n",
       "1  2017  Louisville     11  \n",
       "2  2017     Orlando      2  \n",
       "3  2016   Charlotte      5  \n",
       "4  2016     Atlanta      1  "
      ]
     },
     "execution_count": 26,
     "metadata": {},
     "output_type": "execute_result"
    }
   ],
   "source": [
    "df_train.head()"
   ]
  },
  {
   "cell_type": "code",
   "execution_count": 28,
   "metadata": {},
   "outputs": [],
   "source": [
    "df_test[\"Date\"]= pd.to_datetime(df_test[\"Date\"])\n",
    "df_test['Month'] = pd.DatetimeIndex(df_test['Date']).month"
   ]
  },
  {
   "cell_type": "code",
   "execution_count": 11,
   "metadata": {},
   "outputs": [
    {
     "data": {
      "text/html": [
       "<div>\n",
       "<style scoped>\n",
       "    .dataframe tbody tr th:only-of-type {\n",
       "        vertical-align: middle;\n",
       "    }\n",
       "\n",
       "    .dataframe tbody tr th {\n",
       "        vertical-align: top;\n",
       "    }\n",
       "\n",
       "    .dataframe thead th {\n",
       "        text-align: right;\n",
       "    }\n",
       "</style>\n",
       "<table border=\"1\" class=\"dataframe\">\n",
       "  <thead>\n",
       "    <tr style=\"text-align: right;\">\n",
       "      <th></th>\n",
       "      <th>Id</th>\n",
       "      <th>Date</th>\n",
       "      <th>Total Volume</th>\n",
       "      <th>4046</th>\n",
       "      <th>4225</th>\n",
       "      <th>4770</th>\n",
       "      <th>Total Bags</th>\n",
       "      <th>Small Bags</th>\n",
       "      <th>Large Bags</th>\n",
       "      <th>XLarge Bags</th>\n",
       "      <th>type</th>\n",
       "      <th>year</th>\n",
       "      <th>region</th>\n",
       "    </tr>\n",
       "  </thead>\n",
       "  <tbody>\n",
       "    <tr>\n",
       "      <th>0</th>\n",
       "      <td>11137</td>\n",
       "      <td>2015-05-03</td>\n",
       "      <td>12425.42000</td>\n",
       "      <td>426.78000</td>\n",
       "      <td>6174.20000</td>\n",
       "      <td>548.21000</td>\n",
       "      <td>5276.23000</td>\n",
       "      <td>2313.33000</td>\n",
       "      <td>2962.90000</td>\n",
       "      <td>0.00000</td>\n",
       "      <td>organic</td>\n",
       "      <td>2015</td>\n",
       "      <td>RichmondNorfolk</td>\n",
       "    </tr>\n",
       "    <tr>\n",
       "      <th>1</th>\n",
       "      <td>16503</td>\n",
       "      <td>2017-10-08</td>\n",
       "      <td>11837.20000</td>\n",
       "      <td>2749.91000</td>\n",
       "      <td>124.43000</td>\n",
       "      <td>0.00000</td>\n",
       "      <td>8962.86000</td>\n",
       "      <td>8921.88000</td>\n",
       "      <td>40.98000</td>\n",
       "      <td>0.00000</td>\n",
       "      <td>organic</td>\n",
       "      <td>2017</td>\n",
       "      <td>PhoenixTucson</td>\n",
       "    </tr>\n",
       "    <tr>\n",
       "      <th>2</th>\n",
       "      <td>6438</td>\n",
       "      <td>2017-07-02</td>\n",
       "      <td>4250394.01000</td>\n",
       "      <td>740503.01000</td>\n",
       "      <td>1423924.97000</td>\n",
       "      <td>356791.68000</td>\n",
       "      <td>1729174.35000</td>\n",
       "      <td>1157601.31000</td>\n",
       "      <td>485376.01000</td>\n",
       "      <td>86197.03000</td>\n",
       "      <td>conventional</td>\n",
       "      <td>2017</td>\n",
       "      <td>GreatLakes</td>\n",
       "    </tr>\n",
       "    <tr>\n",
       "      <th>3</th>\n",
       "      <td>8247</td>\n",
       "      <td>2017-05-14</td>\n",
       "      <td>74951.66000</td>\n",
       "      <td>1032.62000</td>\n",
       "      <td>43170.45000</td>\n",
       "      <td>42.00000</td>\n",
       "      <td>30706.59000</td>\n",
       "      <td>28525.65000</td>\n",
       "      <td>2180.94000</td>\n",
       "      <td>0.00000</td>\n",
       "      <td>conventional</td>\n",
       "      <td>2017</td>\n",
       "      <td>Syracuse</td>\n",
       "    </tr>\n",
       "    <tr>\n",
       "      <th>4</th>\n",
       "      <td>10481</td>\n",
       "      <td>2015-12-13</td>\n",
       "      <td>4594.71000</td>\n",
       "      <td>592.64000</td>\n",
       "      <td>2602.48000</td>\n",
       "      <td>0.00000</td>\n",
       "      <td>1399.59000</td>\n",
       "      <td>696.67000</td>\n",
       "      <td>702.92000</td>\n",
       "      <td>0.00000</td>\n",
       "      <td>organic</td>\n",
       "      <td>2015</td>\n",
       "      <td>Nashville</td>\n",
       "    </tr>\n",
       "  </tbody>\n",
       "</table>\n",
       "</div>"
      ],
      "text/plain": [
       "      Id        Date  Total Volume         4046          4225         4770  \\\n",
       "0  11137  2015-05-03   12425.42000    426.78000    6174.20000    548.21000   \n",
       "1  16503  2017-10-08   11837.20000   2749.91000     124.43000      0.00000   \n",
       "2   6438  2017-07-02 4250394.01000 740503.01000 1423924.97000 356791.68000   \n",
       "3   8247  2017-05-14   74951.66000   1032.62000   43170.45000     42.00000   \n",
       "4  10481  2015-12-13    4594.71000    592.64000    2602.48000      0.00000   \n",
       "\n",
       "     Total Bags    Small Bags   Large Bags  XLarge Bags          type  year  \\\n",
       "0    5276.23000    2313.33000   2962.90000      0.00000       organic  2015   \n",
       "1    8962.86000    8921.88000     40.98000      0.00000       organic  2017   \n",
       "2 1729174.35000 1157601.31000 485376.01000  86197.03000  conventional  2017   \n",
       "3   30706.59000   28525.65000   2180.94000      0.00000  conventional  2017   \n",
       "4    1399.59000     696.67000    702.92000      0.00000       organic  2015   \n",
       "\n",
       "            region  \n",
       "0  RichmondNorfolk  \n",
       "1    PhoenixTucson  \n",
       "2       GreatLakes  \n",
       "3         Syracuse  \n",
       "4        Nashville  "
      ]
     },
     "execution_count": 11,
     "metadata": {},
     "output_type": "execute_result"
    }
   ],
   "source": [
    "df_test.head()"
   ]
  },
  {
   "cell_type": "code",
   "execution_count": 12,
   "metadata": {},
   "outputs": [
    {
     "name": "stdout",
     "output_type": "stream",
     "text": [
      "year\n",
      "2015   3345478970.60000\n",
      "2016   3781468086.56000\n",
      "2017   3698652482.86999\n",
      "2018   1053042976.94000\n",
      "Name: Total Volume, dtype: float64\n"
     ]
    }
   ],
   "source": [
    "x=df_train.groupby('year')['Total Volume'].sum()\n",
    "print(x)"
   ]
  },
  {
   "cell_type": "markdown",
   "metadata": {
    "id": "idD3QcKjzbOx"
   },
   "source": [
    "---\n",
    "<a name = Section6></a>\n",
    "# **6. Exploratory Data Analysis**\n",
    "---"
   ]
  },
  {
   "cell_type": "markdown",
   "metadata": {
    "id": "oKDnGcRdrjyH"
   },
   "source": [
    "<a name = Section61></a>\n",
    "### **6.1 What is the year-on-year status of sales?**"
   ]
  },
  {
   "cell_type": "markdown",
   "metadata": {},
   "source": [
    "\n"
   ]
  },
  {
   "cell_type": "code",
   "execution_count": 13,
   "metadata": {},
   "outputs": [
    {
     "data": {
      "image/png": "[encoded data removed]",
      "text/plain": [
       "<Figure size 576x360 with 1 Axes>"
      ]
     },
     "metadata": {
      "needs_background": "light"
     },
     "output_type": "display_data"
    }
   ],
   "source": [
    "figure = plt.figure(figsize=[8,5])\n",
    "df_train.groupby('year')['Total Volume'].sum().plot(kind='bar', cmap='rainbow')\n",
    "plt.xticks(rotation=90)\n",
    "plt.xlabel('Year',size=14)\n",
    "plt.ylabel('Total Volume', size=14)\n",
    "plt.title('Total Volume (Units Sold/Year)' ,size=16)\n",
    "plt.savefig('Total Volume.png')"
   ]
  },
  {
   "cell_type": "code",
   "execution_count": 14,
   "metadata": {},
   "outputs": [
    {
     "name": "stdout",
     "output_type": "stream",
     "text": [
      "year\n",
      "2015   1.37473\n",
      "2016   1.34041\n",
      "2017   1.52510\n",
      "2018   1.34331\n",
      "Name: AveragePrice, dtype: float64\n"
     ]
    }
   ],
   "source": [
    "z = df_train.groupby('year')['AveragePrice'].mean()\n",
    "print(z)"
   ]
  },
  {
   "cell_type": "code",
   "execution_count": 15,
   "metadata": {},
   "outputs": [
    {
     "data": {
      "image/png": "[encoded data removed]",
      "text/plain": [
       "<Figure size 576x360 with 1 Axes>"
      ]
     },
     "metadata": {
      "needs_background": "light"
     },
     "output_type": "display_data"
    }
   ],
   "source": [
    "figure = plt.figure(figsize=[8,5])\n",
    "df_train.groupby('year')['AveragePrice'].mean().plot(kind='bar', cmap='rainbow')\n",
    "plt.xticks(rotation=90)\n",
    "plt.xlabel('Year',size=14)\n",
    "plt.ylabel('Average Price', size=14)\n",
    "plt.title('Average Price/ Year' ,size=16)\n",
    "plt.savefig('Average Price per Year.png')"
   ]
  },
  {
   "cell_type": "markdown",
   "metadata": {},
   "source": [
    "__Observation:__\n",
    "\n",
    "- The total sales volume was the **highest in 2017 at 4943 million** and dropped to 1382 million in 2018.\n",
    "- Average price was **the highest in 2017 at USD 1.5** and dropped to USD 1.3 in the year 2018."
   ]
  },
  {
   "cell_type": "markdown",
   "metadata": {},
   "source": [
    "<a name = Section62></a>\n",
    "### **6.2 Which type of bags were sold the most?**"
   ]
  },
  {
   "cell_type": "code",
   "execution_count": 16,
   "metadata": {},
   "outputs": [
    {
     "data": {
      "text/plain": [
       "<Figure size 576x360 with 0 Axes>"
      ]
     },
     "metadata": {},
     "output_type": "display_data"
    },
    {
     "data": {
      "image/png": "[encoded data removed]",
      "text/plain": [
       "<Figure size 432x288 with 1 Axes>"
      ]
     },
     "metadata": {
      "needs_background": "light"
     },
     "output_type": "display_data"
    }
   ],
   "source": [
    "figure = plt.figure(figsize=[8,5])\n",
    "df_train.groupby('year')[[ 'Small Bags','Large Bags', 'XLarge Bags']].sum().plot(kind='bar', cmap='rainbow')\n",
    "plt.xlabel('Year',size=14)\n",
    "plt.title('Total Bags sold' ,size=16)\n",
    "plt.savefig('Total Bags sold.png')"
   ]
  },
  {
   "cell_type": "code",
   "execution_count": 17,
   "metadata": {},
   "outputs": [
    {
     "data": {
      "image/png": "[encoded data removed]",
      "text/plain": [
       "<Figure size 576x360 with 1 Axes>"
      ]
     },
     "metadata": {
      "needs_background": "light"
     },
     "output_type": "display_data"
    }
   ],
   "source": [
    "figure = plt.figure(figsize=[8,5])\n",
    "df_train.groupby('year')['Small Bags'].sum().plot(kind='bar', cmap='rainbow')\n",
    "plt.xlabel('Year',size=14)\n",
    "plt.title('Total Number of Small Bags sold' ,size=16)\n",
    "plt.savefig('Total Number of Small Bags sold.png')"
   ]
  },
  {
   "cell_type": "markdown",
   "metadata": {},
   "source": [
    "__Observation:__\n",
    "\n",
    "- Amongst three bag sizes sold, small size of bags was the highest year-on-year. \n",
    "- The total sales of avocados with small bag size  was the highest in 2017 whereas XL bag size was sold the least. \n",
    "- Even during the drop in  sales in 2018, the most selling bag size was small."
   ]
  },
  {
   "cell_type": "markdown",
   "metadata": {},
   "source": [
    "<a name = Section63></a>\n",
    "### **6.3 Which type of Avocados are more in demand?**\n",
    "---"
   ]
  },
  {
   "cell_type": "code",
   "execution_count": 18,
   "metadata": {},
   "outputs": [
    {
     "data": {
      "image/png": "[encoded data removed]",
      "text/plain": [
       "<Figure size 720x720 with 1 Axes>"
      ]
     },
     "metadata": {},
     "output_type": "display_data"
    }
   ],
   "source": [
    "figure = plt.figure(figsize=[10, 10])\n",
    "space = np.ones(2)/10\n",
    "Type=df_train.groupby('type')['Total Volume'].agg('sum').plot(kind='pie', explode=space, fontsize=14, \n",
    "                                       autopct='%1.1f%%', wedgeprops=dict(width=0.15), \n",
    "                                        startangle=170, legend=True)\n",
    "plt.ylabel(ylabel='Total Volume', size=14)\n",
    "plt.title(label='Distribution of Type of Avocados', size=16)\n",
    "plt.savefig('Distribution of Type of Avocados.png')"
   ]
  },
  {
   "cell_type": "markdown",
   "metadata": {},
   "source": [
    "__Observation:__\n",
    "\n",
    "- Total sales volume of conventional type of avocados is 97.2%(15087 million) whereas organic type has contributed only by 2.8%(436 million).  "
   ]
  },
  {
   "cell_type": "markdown",
   "metadata": {},
   "source": [
    "<a name = Section64></a>\n",
    "### **6.4 How does the yearwise distribution of avocados look like?**"
   ]
  },
  {
   "cell_type": "code",
   "execution_count": 19,
   "metadata": {},
   "outputs": [
    {
     "data": {
      "image/png": "[encoded data removed]",
      "text/plain": [
       "<Figure size 1080x504 with 1 Axes>"
      ]
     },
     "metadata": {
      "needs_background": "light"
     },
     "output_type": "display_data"
    }
   ],
   "source": [
    "figure = plt.figure(figsize=[15, 7])\n",
    "sns.barplot(data=df_train, x=\"year\", y=\"Total Volume\", hue=\"type\")\n",
    "plt.xlabel(xlabel='Year', size=14)\n",
    "plt.ylabel(ylabel='Total Volume', size=14)\n",
    "plt.title(label='Yearwise Distribution of Avocados-Volume', size=16)\n",
    "plt.savefig('Yearwise Distribution of Avocados-Volume.png')"
   ]
  },
  {
   "cell_type": "code",
   "execution_count": 20,
   "metadata": {},
   "outputs": [
    {
     "data": {
      "image/png": "[encoded data removed]",
      "text/plain": [
       "<Figure size 864x288 with 2 Axes>"
      ]
     },
     "metadata": {
      "needs_background": "light"
     },
     "output_type": "display_data"
    }
   ],
   "source": [
    "fig = plt.figure(figsize = [12, 4])\n",
    "plt.subplot(1, 2, 1)\n",
    "sns.barplot(data=df_train, x=\"year\", y=\"Total Volume\", hue=\"type\")\n",
    "plt.xlabel(xlabel='Year', size=10)\n",
    "plt.ylabel(ylabel='Total Volume', size=10)\n",
    "plt.title(label='Yearwise Distribution of Avocados-Volume', size=14)\n",
    "\n",
    "\n",
    "plt.subplot(1, 2, 2)\n",
    "sns.barplot(data=df_train, x=\"year\", y=\"AveragePrice\", hue=\"type\")\n",
    "plt.xlabel(xlabel='Year', size=10)\n",
    "plt.ylabel(ylabel='AveragePrice', size=10)\n",
    "plt.title(label='Yearwise Distribution of Avocados-Average Price', size=14)\n",
    "plt.tight_layout(pad = 3.0)\n",
    "plt.suptitle(t = 'Yearwise Distribution of Avocados', y = 1.02, size = 16)\n",
    "plt.savefig('Yearwise distribution of Avocados.png')"
   ]
  },
  {
   "cell_type": "markdown",
   "metadata": {},
   "source": [
    "__Observation__\n",
    "- The Conventional type of avocados were sold higher each year with respect to volume. There is a significant increase in volume from 2017 to 2018.\n",
    "- There was a drop in average price from 2017 to 2018."
   ]
  },
  {
   "cell_type": "markdown",
   "metadata": {},
   "source": [
    "<a name = Section65></a>\n",
    "### 6.5 What is the impact of PLU code(size of avocado) on sales?"
   ]
  },
  {
   "cell_type": "code",
   "execution_count": 21,
   "metadata": {},
   "outputs": [
    {
     "data": {
      "text/plain": [
       "<Figure size 1080x504 with 0 Axes>"
      ]
     },
     "metadata": {},
     "output_type": "display_data"
    },
    {
     "data": {
      "image/png": "[encoded data removed]",
      "text/plain": [
       "<Figure size 432x288 with 1 Axes>"
      ]
     },
     "metadata": {
      "needs_background": "light"
     },
     "output_type": "display_data"
    }
   ],
   "source": [
    "figure = plt.figure(figsize=[15, 7])\n",
    "df_train.groupby('year')[[ '4046','4225', '4770']].sum().plot(kind='bar', cmap='rainbow')\n",
    "plt.xlabel(xlabel='Year', size=14)\n",
    "plt.ylabel(ylabel='Frequency', size=14)\n",
    "plt.title(label='Total Hass Avocados sold', size=16)\n",
    "plt.savefig('Total Hass Avocados sold.png')"
   ]
  },
  {
   "cell_type": "code",
   "execution_count": 22,
   "metadata": {},
   "outputs": [
    {
     "data": {
      "text/plain": [
       "year\n",
       "2015   483550732.23000\n",
       "2016   866888426.71000\n",
       "2017   924069495.35000\n",
       "2018   274993043.48000\n",
       "Name: Small Bags, dtype: float64"
      ]
     },
     "execution_count": 22,
     "metadata": {},
     "output_type": "execute_result"
    }
   ],
   "source": [
    "df_train.groupby('year')['Small Bags'].sum()"
   ]
  },
  {
   "cell_type": "code",
   "execution_count": 29,
   "metadata": {},
   "outputs": [
    {
     "data": {
      "image/png": "[encoded data removed]",
      "text/plain": [
       "<Figure size 1080x504 with 1 Axes>"
      ]
     },
     "metadata": {
      "needs_background": "light"
     },
     "output_type": "display_data"
    }
   ],
   "source": [
    "figure = plt.figure(figsize=[15, 7])\n",
    "df_train.groupby('Month')['AveragePrice'].mean().plot(kind='line')\n",
    "plt.xlabel(xlabel='Month', size=14)\n",
    "plt.ylabel(ylabel='Average Price', size=14)\n",
    "plt.title(label='Average Monthly Price', size=16)\n",
    "plt.savefig('Average Monthly Price.png')"
   ]
  },
  {
   "cell_type": "markdown",
   "metadata": {},
   "source": [
    "__Observation__\n",
    "\n",
    "- **Most selling type is 4225** and the lowest one is 4770.\n",
    "- Average price is highest during **Aug,Sep and Oct** and starts to drop Nov onwards."
   ]
  },
  {
   "cell_type": "markdown",
   "metadata": {},
   "source": [
    "<a name = Section66></a>\n",
    "### 6.6 What are the Top 10 regions with the highest sales?"
   ]
  },
  {
   "cell_type": "code",
   "execution_count": null,
   "metadata": {},
   "outputs": [],
   "source": [
    "df_train['Revenue']=df_train['AveragePrice']*df_train['Total Volume']\n",
    "R = df_train.groupby('region')['Revenue'].sum().sort_values(ascending=False)\n",
    "R.drop(R.index[0], inplace=True)"
   ]
  },
  {
   "cell_type": "code",
   "execution_count": null,
   "metadata": {},
   "outputs": [],
   "source": [
    "figure = plt.figure(figsize=[15, 7])\n",
    "R.head(10).plot(kind='bar', cmap='rainbow')\n",
    "plt.xticks(rotation=90)\n",
    "plt.xlabel('Region',size=14)\n",
    "plt.ylabel('Revenue', size=14)\n",
    "plt.title('Highest Regionwise Revenue in TOP 10 Cities' ,size=16)\n",
    "plt.savefig('Highest Regionwise Revenue in TOP 10 cities.png')"
   ]
  },
  {
   "cell_type": "code",
   "execution_count": null,
   "metadata": {},
   "outputs": [],
   "source": [
    "fig = plt.figure(figsize = [15, 7])\n",
    "plt.subplot(1, 3, 1)\n",
    "df_train.groupby('region')['Total Volume'].sum().sort_values(ascending=False)[1:11].plot(kind='bar', cmap='rainbow')\n",
    "plt.xticks(rotation=90)\n",
    "plt.xlabel('Region',size=10)\n",
    "plt.ylabel('Total Volume', size=10)\n",
    "plt.title('Highest Sales by Volume',size=14)\n",
    "\n",
    "plt.subplot(1, 3, 2)\n",
    "df_train.groupby('region')['AveragePrice'].mean().sort_values(ascending=False)[1:11].plot(kind='bar', cmap='rainbow')\n",
    "plt.xticks(rotation=90)\n",
    "plt.xlabel('Region',size=10)\n",
    "plt.ylabel('Total Volume', size=10)\n",
    "plt.title('Highest Average Price', size=14)\n",
    "\n",
    "plt.subplot(1, 3, 3)\n",
    "R[0:10].plot(kind='bar', cmap='rainbow')\n",
    "plt.xticks(rotation=90)\n",
    "plt.xlabel('Region',size=10)\n",
    "plt.ylabel('Revenue', size=10)\n",
    "plt.title('Highest Sales Revenue Regionwise' ,size=14)\n",
    "plt.tight_layout(pad = 3.0)\n",
    "plt.suptitle(t = 'Highest Sales in Top 10 Cities', y = 1.02, size = 16)\n",
    "plt.savefig('Highest Sales in Top 10 Cities.png')"
   ]
  },
  {
   "cell_type": "markdown",
   "metadata": {},
   "source": [
    "__Observation__\n",
    "\n",
    "California has the highest demand (1121 million), followed by West(1066 million), Northeast(96 million), Southcentral(87 million), Southeast(70 million) and so on.\n"
   ]
  },
  {
   "cell_type": "markdown",
   "metadata": {},
   "source": [
    "<a name = Section67></a>\n",
    "### 6.7  How are the features in the dataset correlated to each other?"
   ]
  },
  {
   "cell_type": "code",
   "execution_count": 30,
   "metadata": {},
   "outputs": [
    {
     "data": {
      "image/png": "[encoded data removed]",
      "text/plain": [
       "<Figure size 1080x504 with 2 Axes>"
      ]
     },
     "metadata": {
      "needs_background": "light"
     },
     "output_type": "display_data"
    }
   ],
   "source": [
    "figure= plt.figure(figsize=(15,7))\n",
    "sns.heatmap(df_train.corr(),cmap='Blues',annot=True)\n",
    "plt.xticks(size=12)\n",
    "plt.yticks(size=12)\n",
    "plt.title(label='Correlation of Features', size=16)\n",
    "plt.savefig('Correlation of Features.png')"
   ]
  },
  {
   "cell_type": "markdown",
   "metadata": {
    "colab": {
     "base_uri": "https://localhost:8080/",
     "height": 1000
    },
    "executionInfo": {
     "elapsed": 16542,
     "status": "ok",
     "timestamp": 1602146528630,
     "user": {
      "displayName": "Hemanka Sarmah",
      "photoUrl": "",
      "userId": "10159490959382562036"
     },
     "user_tz": -330
    },
    "id": "1W5lEb08rjyH",
    "outputId": "cfc8f713-51f7-4d38-cfeb-60a4e485f425"
   },
   "source": [
    "__Observation__\n",
    "\n",
    "\n",
    "From the above heatmap,it is observed that all the **features are not correleted with the Average Price column**, instead most of them are correlated with each other."
   ]
  },
  {
   "cell_type": "markdown",
   "metadata": {},
   "source": [
    "<a name = Section7></a>\n",
    "# 7. Model Development & Evaluation"
   ]
  },
  {
   "cell_type": "markdown",
   "metadata": {
    "id": "I4mWZiDTrjyK"
   },
   "source": [
    "<a name = Section71></a>\n",
    "### 7.1 Feature Selection"
   ]
  },
  {
   "cell_type": "code",
   "execution_count": 32,
   "metadata": {
    "id": "Y-jdNQygrjyL"
   },
   "outputs": [
    {
     "data": {
      "text/html": [
       "<div>\n",
       "<style scoped>\n",
       "    .dataframe tbody tr th:only-of-type {\n",
       "        vertical-align: middle;\n",
       "    }\n",
       "\n",
       "    .dataframe tbody tr th {\n",
       "        vertical-align: top;\n",
       "    }\n",
       "\n",
       "    .dataframe thead th {\n",
       "        text-align: right;\n",
       "    }\n",
       "</style>\n",
       "<table border=\"1\" class=\"dataframe\">\n",
       "  <thead>\n",
       "    <tr style=\"text-align: right;\">\n",
       "      <th></th>\n",
       "      <th>Id</th>\n",
       "      <th>AveragePrice</th>\n",
       "      <th>Total Volume</th>\n",
       "      <th>4046</th>\n",
       "      <th>4225</th>\n",
       "      <th>4770</th>\n",
       "      <th>Total Bags</th>\n",
       "      <th>Small Bags</th>\n",
       "      <th>Large Bags</th>\n",
       "      <th>XLarge Bags</th>\n",
       "      <th>year</th>\n",
       "      <th>Month</th>\n",
       "      <th>type_organic</th>\n",
       "    </tr>\n",
       "  </thead>\n",
       "  <tbody>\n",
       "    <tr>\n",
       "      <th>0</th>\n",
       "      <td>14761</td>\n",
       "      <td>1.86000</td>\n",
       "      <td>2584.08000</td>\n",
       "      <td>61.21000</td>\n",
       "      <td>143.82000</td>\n",
       "      <td>0.00000</td>\n",
       "      <td>2379.05000</td>\n",
       "      <td>2379.05000</td>\n",
       "      <td>0.00000</td>\n",
       "      <td>0.00000</td>\n",
       "      <td>2017</td>\n",
       "      <td>8</td>\n",
       "      <td>1</td>\n",
       "    </tr>\n",
       "    <tr>\n",
       "      <th>1</th>\n",
       "      <td>6843</td>\n",
       "      <td>1.14000</td>\n",
       "      <td>100811.00000</td>\n",
       "      <td>3181.00000</td>\n",
       "      <td>43510.00000</td>\n",
       "      <td>86.00000</td>\n",
       "      <td>54034.00000</td>\n",
       "      <td>11788.00000</td>\n",
       "      <td>42246.00000</td>\n",
       "      <td>0.00000</td>\n",
       "      <td>2017</td>\n",
       "      <td>11</td>\n",
       "      <td>0</td>\n",
       "    </tr>\n",
       "    <tr>\n",
       "      <th>2</th>\n",
       "      <td>7306</td>\n",
       "      <td>0.95000</td>\n",
       "      <td>430096.94000</td>\n",
       "      <td>242212.80000</td>\n",
       "      <td>81697.52000</td>\n",
       "      <td>264.25000</td>\n",
       "      <td>105922.37000</td>\n",
       "      <td>48557.37000</td>\n",
       "      <td>57365.00000</td>\n",
       "      <td>0.00000</td>\n",
       "      <td>2017</td>\n",
       "      <td>2</td>\n",
       "      <td>0</td>\n",
       "    </tr>\n",
       "    <tr>\n",
       "      <th>3</th>\n",
       "      <td>12329</td>\n",
       "      <td>1.71000</td>\n",
       "      <td>5433.16000</td>\n",
       "      <td>437.48000</td>\n",
       "      <td>2422.71000</td>\n",
       "      <td>544.63000</td>\n",
       "      <td>2028.34000</td>\n",
       "      <td>2021.67000</td>\n",
       "      <td>6.67000</td>\n",
       "      <td>0.00000</td>\n",
       "      <td>2016</td>\n",
       "      <td>5</td>\n",
       "      <td>1</td>\n",
       "    </tr>\n",
       "    <tr>\n",
       "      <th>4</th>\n",
       "      <td>12036</td>\n",
       "      <td>1.66000</td>\n",
       "      <td>5614.09000</td>\n",
       "      <td>2123.47000</td>\n",
       "      <td>2121.26000</td>\n",
       "      <td>0.00000</td>\n",
       "      <td>1369.36000</td>\n",
       "      <td>392.02000</td>\n",
       "      <td>977.34000</td>\n",
       "      <td>0.00000</td>\n",
       "      <td>2016</td>\n",
       "      <td>1</td>\n",
       "      <td>1</td>\n",
       "    </tr>\n",
       "  </tbody>\n",
       "</table>\n",
       "</div>"
      ],
      "text/plain": [
       "      Id  AveragePrice  Total Volume         4046        4225      4770  \\\n",
       "0  14761       1.86000    2584.08000     61.21000   143.82000   0.00000   \n",
       "1   6843       1.14000  100811.00000   3181.00000 43510.00000  86.00000   \n",
       "2   7306       0.95000  430096.94000 242212.80000 81697.52000 264.25000   \n",
       "3  12329       1.71000    5433.16000    437.48000  2422.71000 544.63000   \n",
       "4  12036       1.66000    5614.09000   2123.47000  2121.26000   0.00000   \n",
       "\n",
       "    Total Bags  Small Bags  Large Bags  XLarge Bags  year  Month  type_organic  \n",
       "0   2379.05000  2379.05000     0.00000      0.00000  2017      8             1  \n",
       "1  54034.00000 11788.00000 42246.00000      0.00000  2017     11             0  \n",
       "2 105922.37000 48557.37000 57365.00000      0.00000  2017      2             0  \n",
       "3   2028.34000  2021.67000     6.67000      0.00000  2016      5             1  \n",
       "4   1369.36000   392.02000   977.34000      0.00000  2016      1             1  "
      ]
     },
     "execution_count": 32,
     "metadata": {},
     "output_type": "execute_result"
    }
   ],
   "source": [
    "df_train=pd.get_dummies(df_train.drop(['region','Date'],axis=1),drop_first=True)\n",
    "df_train.head()"
   ]
  },
  {
   "cell_type": "code",
   "execution_count": 33,
   "metadata": {
    "colab": {
     "base_uri": "https://localhost:8080/",
     "height": 602
    },
    "executionInfo": {
     "elapsed": 24591,
     "status": "ok",
     "timestamp": 1602146536690,
     "user": {
      "displayName": "Hemanka Sarmah",
      "photoUrl": "",
      "userId": "10159490959382562036"
     },
     "user_tz": -330
    },
    "id": "PG6r2lBmrjyL",
    "outputId": "d4cb8069-0e94-4b1d-93ff-d5b5b3bb2f7d"
   },
   "outputs": [
    {
     "data": {
      "text/html": [
       "<div>\n",
       "<style scoped>\n",
       "    .dataframe tbody tr th:only-of-type {\n",
       "        vertical-align: middle;\n",
       "    }\n",
       "\n",
       "    .dataframe tbody tr th {\n",
       "        vertical-align: top;\n",
       "    }\n",
       "\n",
       "    .dataframe thead th {\n",
       "        text-align: right;\n",
       "    }\n",
       "</style>\n",
       "<table border=\"1\" class=\"dataframe\">\n",
       "  <thead>\n",
       "    <tr style=\"text-align: right;\">\n",
       "      <th></th>\n",
       "      <th>Id</th>\n",
       "      <th>Total Volume</th>\n",
       "      <th>4046</th>\n",
       "      <th>4225</th>\n",
       "      <th>4770</th>\n",
       "      <th>Total Bags</th>\n",
       "      <th>Small Bags</th>\n",
       "      <th>Large Bags</th>\n",
       "      <th>XLarge Bags</th>\n",
       "      <th>year</th>\n",
       "      <th>Month</th>\n",
       "      <th>type_organic</th>\n",
       "    </tr>\n",
       "  </thead>\n",
       "  <tbody>\n",
       "    <tr>\n",
       "      <th>0</th>\n",
       "      <td>11137</td>\n",
       "      <td>12425.42000</td>\n",
       "      <td>426.78000</td>\n",
       "      <td>6174.20000</td>\n",
       "      <td>548.21000</td>\n",
       "      <td>5276.23000</td>\n",
       "      <td>2313.33000</td>\n",
       "      <td>2962.90000</td>\n",
       "      <td>0.00000</td>\n",
       "      <td>2015</td>\n",
       "      <td>5</td>\n",
       "      <td>1</td>\n",
       "    </tr>\n",
       "    <tr>\n",
       "      <th>1</th>\n",
       "      <td>16503</td>\n",
       "      <td>11837.20000</td>\n",
       "      <td>2749.91000</td>\n",
       "      <td>124.43000</td>\n",
       "      <td>0.00000</td>\n",
       "      <td>8962.86000</td>\n",
       "      <td>8921.88000</td>\n",
       "      <td>40.98000</td>\n",
       "      <td>0.00000</td>\n",
       "      <td>2017</td>\n",
       "      <td>10</td>\n",
       "      <td>1</td>\n",
       "    </tr>\n",
       "    <tr>\n",
       "      <th>2</th>\n",
       "      <td>6438</td>\n",
       "      <td>4250394.01000</td>\n",
       "      <td>740503.01000</td>\n",
       "      <td>1423924.97000</td>\n",
       "      <td>356791.68000</td>\n",
       "      <td>1729174.35000</td>\n",
       "      <td>1157601.31000</td>\n",
       "      <td>485376.01000</td>\n",
       "      <td>86197.03000</td>\n",
       "      <td>2017</td>\n",
       "      <td>7</td>\n",
       "      <td>0</td>\n",
       "    </tr>\n",
       "    <tr>\n",
       "      <th>3</th>\n",
       "      <td>8247</td>\n",
       "      <td>74951.66000</td>\n",
       "      <td>1032.62000</td>\n",
       "      <td>43170.45000</td>\n",
       "      <td>42.00000</td>\n",
       "      <td>30706.59000</td>\n",
       "      <td>28525.65000</td>\n",
       "      <td>2180.94000</td>\n",
       "      <td>0.00000</td>\n",
       "      <td>2017</td>\n",
       "      <td>5</td>\n",
       "      <td>0</td>\n",
       "    </tr>\n",
       "    <tr>\n",
       "      <th>4</th>\n",
       "      <td>10481</td>\n",
       "      <td>4594.71000</td>\n",
       "      <td>592.64000</td>\n",
       "      <td>2602.48000</td>\n",
       "      <td>0.00000</td>\n",
       "      <td>1399.59000</td>\n",
       "      <td>696.67000</td>\n",
       "      <td>702.92000</td>\n",
       "      <td>0.00000</td>\n",
       "      <td>2015</td>\n",
       "      <td>12</td>\n",
       "      <td>1</td>\n",
       "    </tr>\n",
       "  </tbody>\n",
       "</table>\n",
       "</div>"
      ],
      "text/plain": [
       "      Id  Total Volume         4046          4225         4770    Total Bags  \\\n",
       "0  11137   12425.42000    426.78000    6174.20000    548.21000    5276.23000   \n",
       "1  16503   11837.20000   2749.91000     124.43000      0.00000    8962.86000   \n",
       "2   6438 4250394.01000 740503.01000 1423924.97000 356791.68000 1729174.35000   \n",
       "3   8247   74951.66000   1032.62000   43170.45000     42.00000   30706.59000   \n",
       "4  10481    4594.71000    592.64000    2602.48000      0.00000    1399.59000   \n",
       "\n",
       "     Small Bags   Large Bags  XLarge Bags  year  Month  type_organic  \n",
       "0    2313.33000   2962.90000      0.00000  2015      5             1  \n",
       "1    8921.88000     40.98000      0.00000  2017     10             1  \n",
       "2 1157601.31000 485376.01000  86197.03000  2017      7             0  \n",
       "3   28525.65000   2180.94000      0.00000  2017      5             0  \n",
       "4     696.67000    702.92000      0.00000  2015     12             1  "
      ]
     },
     "execution_count": 33,
     "metadata": {},
     "output_type": "execute_result"
    }
   ],
   "source": [
    "df_test=pd.get_dummies(df_test.drop(['region','Date'],axis=1),drop_first=True)\n",
    "df_test.head()"
   ]
  },
  {
   "cell_type": "markdown",
   "metadata": {
    "id": "9cDwPLinrjyR"
   },
   "source": [
    "<a name = Section72></a>\n",
    "### **7.2 Post-Profiling Report**\n",
    "\n",
    "- After doing **missing value Imputation**, **feature engineering**, **removing unwanted features** we will now look at the report again."
   ]
  },
  {
   "cell_type": "code",
   "execution_count": null,
   "metadata": {},
   "outputs": [],
   "source": [
    "profile = ProfileReport(df = df_train)\n",
    "profile.to_file(output_file = 'Post Profiling Report.html')\n",
    "print('Accomplished!')"
   ]
  },
  {
   "cell_type": "markdown",
   "metadata": {
    "colab": {
     "base_uri": "https://localhost:8080/",
     "height": 269
    },
    "executionInfo": {
     "elapsed": 24565,
     "status": "ok",
     "timestamp": 1602146536691,
     "user": {
      "displayName": "Hemanka Sarmah",
      "photoUrl": "",
      "userId": "10159490959382562036"
     },
     "user_tz": -330
    },
    "id": "CZ30lN7ErjyR",
    "outputId": "6f8ac117-ce1a-4889-a1f5-eecd6a2a6ef1"
   },
   "source": [
    "- For each column **statistics** are presented in an interactive HTML report.\n",
    "\n",
    "- The data pre-profiling report can be retrieved from the attached <a href = \"http://localhost:8891/view/Post%20Profiling%20Report.html\">**link**</a>.\n",
    "\n",
    "Observation:\n",
    "\n",
    "For full details after the data processing checkout the report."
   ]
  },
  {
   "cell_type": "markdown",
   "metadata": {},
   "source": [
    "<a name = Section73></a>\n",
    "### 7.3 Data Preparation\n"
   ]
  },
  {
   "cell_type": "code",
   "execution_count": 34,
   "metadata": {},
   "outputs": [
    {
     "data": {
      "text/plain": [
       "Index(['Id', 'Total Volume', '4046', '4225', '4770', 'Total Bags',\n",
       "       'Small Bags', 'Large Bags', 'XLarge Bags', 'year', 'Month',\n",
       "       'type_organic'],\n",
       "      dtype='object')"
      ]
     },
     "execution_count": 34,
     "metadata": {},
     "output_type": "execute_result"
    }
   ],
   "source": [
    "df_test.columns"
   ]
  },
  {
   "cell_type": "code",
   "execution_count": 35,
   "metadata": {},
   "outputs": [
    {
     "data": {
      "text/plain": [
       "Index(['Id', 'AveragePrice', 'Total Volume', '4046', '4225', '4770',\n",
       "       'Total Bags', 'Small Bags', 'Large Bags', 'XLarge Bags', 'year',\n",
       "       'Month', 'type_organic'],\n",
       "      dtype='object')"
      ]
     },
     "execution_count": 35,
     "metadata": {},
     "output_type": "execute_result"
    }
   ],
   "source": [
    "df_train.columns"
   ]
  },
  {
   "cell_type": "code",
   "execution_count": 36,
   "metadata": {},
   "outputs": [],
   "source": [
    "feature_cols = ['Total Volume', '4046', '4225', '4770',\n",
    "       'Total Bags', 'Small Bags', 'Large Bags', 'XLarge Bags', 'year',  'Month', 'type_organic']\n",
    "x = df_train[feature_cols]"
   ]
  },
  {
   "cell_type": "code",
   "execution_count": 37,
   "metadata": {},
   "outputs": [],
   "source": [
    "y = df_train.AveragePrice\n"
   ]
  },
  {
   "cell_type": "markdown",
   "metadata": {},
   "source": [
    "<a name = Section74></a>\n",
    "### 7.4 Spliting data\n"
   ]
  },
  {
   "cell_type": "code",
   "execution_count": null,
   "metadata": {},
   "outputs": [],
   "source": []
  },
  {
   "cell_type": "code",
   "execution_count": 39,
   "metadata": {},
   "outputs": [],
   "source": [
    "def split(x,y):\n",
    "    return train_test_split(x, y, test_size=0.20, random_state=1)"
   ]
  },
  {
   "cell_type": "code",
   "execution_count": 40,
   "metadata": {},
   "outputs": [
    {
     "name": "stdout",
     "output_type": "stream",
     "text": [
      "Train cases as below\n",
      "x_train shape:  (11679, 11)\n",
      "y_train shape:  (11679,)\n",
      "\n",
      "Test cases as below\n",
      "x_test shape:  (2920, 11)\n",
      "y_test shape:  (2920,)\n"
     ]
    }
   ],
   "source": [
    "x_train, x_test, y_train, y_test=split(x,y)\n",
    "print('Train cases as below')\n",
    "print('x_train shape: ',x_train.shape)\n",
    "print('y_train shape: ',y_train.shape)\n",
    "print('\\nTest cases as below')\n",
    "print('x_test shape: ',x_test.shape)\n",
    "print('y_test shape: ',y_test.shape)"
   ]
  },
  {
   "cell_type": "code",
   "execution_count": null,
   "metadata": {},
   "outputs": [],
   "source": [
    "std_scaler = StandardScaler()\n",
    "std_scaler.fit_transform(x_train)\n",
    "y_test = std_scaler.transform(x_test)\n",
    "\n",
    "#mm_scaler = MinMaxScaler()\n",
    "#mm_scaler.fit(X_train)\n",
    "#X_train_mm = mm_scaler.transform(X_train)\n",
    "#X_test_mm = mm_scaler.transform(X_test)"
   ]
  },
  {
   "cell_type": "code",
   "execution_count": null,
   "metadata": {},
   "outputs": [],
   "source": []
  },
  {
   "cell_type": "code",
   "execution_count": null,
   "metadata": {},
   "outputs": [],
   "source": []
  },
  {
   "cell_type": "code",
   "execution_count": null,
   "metadata": {},
   "outputs": [],
   "source": []
  },
  {
   "cell_type": "markdown",
   "metadata": {},
   "source": [
    "<a name = Section8></a>\n",
    "# **8. Model Development & Evaluation**\n"
   ]
  },
  {
   "cell_type": "markdown",
   "metadata": {},
   "source": [
    "Now our data are ready. Lets apply our model which is going to be the Linear Regression because our target variable 'AveragePrice' is continuous.\n",
    "Let's now begin to train out regression model! We will need to first split up our data into an X array that contains the features to train on, and a y array with the target variable."
   ]
  },
  {
   "cell_type": "markdown",
   "metadata": {
    "scrolled": false
   },
   "source": [
    "<a name = Section81></a>\n",
    "### 8.1 Linear Regression"
   ]
  },
  {
   "cell_type": "code",
   "execution_count": 41,
   "metadata": {},
   "outputs": [],
   "source": [
    "linreg = LinearRegression()\n",
    "linreg.fit(x_train, y_train) \n",
    "y_pred = linreg.predict(x_test)"
   ]
  },
  {
   "cell_type": "code",
   "execution_count": null,
   "metadata": {},
   "outputs": [],
   "source": [
    "y_pred"
   ]
  },
  {
   "cell_type": "code",
   "execution_count": 46,
   "metadata": {},
   "outputs": [],
   "source": [
    "from sklearn.metrics import mean_squared_error"
   ]
  },
  {
   "cell_type": "code",
   "execution_count": 50,
   "metadata": {},
   "outputs": [
    {
     "name": "stdout",
     "output_type": "stream",
     "text": [
      "0.31221500524400014\n"
     ]
    }
   ],
   "source": [
    "mse_linreg = mean_squared_error(y_test, y_pred)\n",
    "rmse_linreg = math.sqrt(mse_linreg)\n",
    "print(rmse_linreg)"
   ]
  },
  {
   "cell_type": "code",
   "execution_count": null,
   "metadata": {},
   "outputs": [],
   "source": []
  },
  {
   "cell_type": "markdown",
   "metadata": {},
   "source": [
    "The RMSE is low so we can say that we do have a good model, but lets check to be more sure.\n",
    "Lets plot the y_test vs the predictions."
   ]
  },
  {
   "cell_type": "code",
   "execution_count": 51,
   "metadata": {},
   "outputs": [
    {
     "data": {
      "image/png": "[encoded data removed]",
      "text/plain": [
       "<Figure size 432x288 with 1 Axes>"
      ]
     },
     "metadata": {
      "needs_background": "light"
     },
     "output_type": "display_data"
    }
   ],
   "source": [
    "sns.regplot(y_test,y_pred)\n",
    "plt.xlabel('Actual Values')\n",
    "plt.ylabel('Predicted Values')\n",
    "plt.savefig('Linear Regression.png')"
   ]
  },
  {
   "cell_type": "markdown",
   "metadata": {},
   "source": [
    "__Observation:__\n",
    "\n",
    "As we can see that we don't have a straight line so this is not the best model we can apply on our data."
   ]
  },
  {
   "cell_type": "markdown",
   "metadata": {},
   "source": [
    "<a name = Section82></a>\n",
    "### 8.2 Random Forest Regressor"
   ]
  },
  {
   "cell_type": "code",
   "execution_count": 57,
   "metadata": {},
   "outputs": [],
   "source": [
    "rfr = RandomForestRegressor(random_state = 0)\n",
    "rfr.fit(x_train, y_train)\n",
    "y_pred = dtr.predict(x_test) "
   ]
  },
  {
   "cell_type": "code",
   "execution_count": 58,
   "metadata": {},
   "outputs": [
    {
     "name": "stdout",
     "output_type": "stream",
     "text": [
      "0.21585859145943048\n"
     ]
    }
   ],
   "source": [
    "mse_rfr = mean_squared_error(y_test, y_pred)\n",
    "rmse_rfr = math.sqrt(mse_rfr)\n",
    "print(rmse_rfr)"
   ]
  },
  {
   "cell_type": "code",
   "execution_count": 59,
   "metadata": {},
   "outputs": [
    {
     "data": {
      "image/png": "[encoded data removed]",
      "text/plain": [
       "<Figure size 432x288 with 1 Axes>"
      ]
     },
     "metadata": {
      "needs_background": "light"
     },
     "output_type": "display_data"
    }
   ],
   "source": [
    "sns.regplot(y_test,y_pred)\n",
    "plt.xlabel('Actual Values')\n",
    "plt.ylabel('Predicted Values')\n",
    "plt.savefig('Random Forest Regressor.png')"
   ]
  },
  {
   "cell_type": "markdown",
   "metadata": {},
   "source": [
    "__Observation__\n",
    "\n",
    "The RMSE is lower than the two previous models.The residuals looked to be normally distributed and that's really a good sign which means that this model was a correct choice for the data."
   ]
  },
  {
   "cell_type": "markdown",
   "metadata": {},
   "source": [
    "<a name = Section84></a>\n",
    "### **8.4 Actual Vs Predicted Sample - Random forest regressor**"
   ]
  },
  {
   "cell_type": "code",
   "execution_count": 64,
   "metadata": {},
   "outputs": [
    {
     "data": {
      "text/plain": [
       "['Total Volume',\n",
       " '4046',\n",
       " '4225',\n",
       " '4770',\n",
       " 'Total Bags',\n",
       " 'Small Bags',\n",
       " 'Large Bags',\n",
       " 'XLarge Bags',\n",
       " 'year',\n",
       " 'Month',\n",
       " 'type_organic']"
      ]
     },
     "execution_count": 64,
     "metadata": {},
     "output_type": "execute_result"
    }
   ],
   "source": [
    "['Total Volume', '4046', '4225', '4770',\n",
    "       'Total Bags', 'Small Bags', 'Large Bags', 'XLarge Bags', 'year',  'Month', 'type_organic']\n"
   ]
  },
  {
   "cell_type": "code",
   "execution_count": 66,
   "metadata": {},
   "outputs": [
    {
     "data": {
      "text/plain": [
       "Index(['Id', 'Total Volume', '4046', '4225', '4770', 'Total Bags',\n",
       "       'Small Bags', 'Large Bags', 'XLarge Bags', 'year', 'Month',\n",
       "       'type_organic'],\n",
       "      dtype='object')"
      ]
     },
     "execution_count": 66,
     "metadata": {},
     "output_type": "execute_result"
    }
   ],
   "source": [
    "df_test.columns"
   ]
  },
  {
   "cell_type": "code",
   "execution_count": 67,
   "metadata": {},
   "outputs": [],
   "source": [
    "X_test = df_test[feature_cols]"
   ]
  },
  {
   "cell_type": "code",
   "execution_count": 68,
   "metadata": {},
   "outputs": [],
   "source": [
    "prediction = rfr.predict(X_test)"
   ]
  },
  {
   "cell_type": "code",
   "execution_count": 69,
   "metadata": {},
   "outputs": [
    {
     "data": {
      "text/plain": [
       "array([1.2799, 1.6693, 1.226 , ..., 1.0442, 1.403 , 1.6113])"
      ]
     },
     "execution_count": 69,
     "metadata": {},
     "output_type": "execute_result"
    }
   ],
   "source": [
    "prediction"
   ]
  },
  {
   "cell_type": "code",
   "execution_count": 70,
   "metadata": {},
   "outputs": [
    {
     "data": {
      "text/html": [
       "<div>\n",
       "<style scoped>\n",
       "    .dataframe tbody tr th:only-of-type {\n",
       "        vertical-align: middle;\n",
       "    }\n",
       "\n",
       "    .dataframe tbody tr th {\n",
       "        vertical-align: top;\n",
       "    }\n",
       "\n",
       "    .dataframe thead th {\n",
       "        text-align: right;\n",
       "    }\n",
       "</style>\n",
       "<table border=\"1\" class=\"dataframe\">\n",
       "  <thead>\n",
       "    <tr style=\"text-align: right;\">\n",
       "      <th></th>\n",
       "      <th>ID</th>\n",
       "      <th>AveragePrice</th>\n",
       "    </tr>\n",
       "  </thead>\n",
       "  <tbody>\n",
       "    <tr>\n",
       "      <th>0</th>\n",
       "      <td>11137</td>\n",
       "      <td>1.27990</td>\n",
       "    </tr>\n",
       "  </tbody>\n",
       "</table>\n",
       "</div>"
      ],
      "text/plain": [
       "      ID  AveragePrice\n",
       "0  11137       1.27990"
      ]
     },
     "execution_count": 70,
     "metadata": {},
     "output_type": "execute_result"
    }
   ],
   "source": [
    "submission = pd.DataFrame({'ID':df_test['Id'],'AveragePrice':prediction})\n",
    "submission.head(1)\n"
   ]
  },
  {
   "cell_type": "code",
   "execution_count": 79,
   "metadata": {},
   "outputs": [],
   "source": [
    "filename = 'submission.csv'\n",
    "submission.to_csv(filename,index=False, header=False)\n",
    "print('Save file:'+ filename)"
   ]
  },
  {
   "cell_type": "markdown",
   "metadata": {
    "id": "gbX3__T_sM5U"
   },
   "source": [
    "\n"
   ]
  },
  {
   "cell_type": "code",
   "execution_count": null,
   "metadata": {},
   "outputs": [],
   "source": []
  },
  {
   "cell_type": "code",
   "execution_count": null,
   "metadata": {},
   "outputs": [],
   "source": []
  }
 ],
 "metadata": {
  "colab": {
   "collapsed_sections": [],
   "name": "LinearRegression.ipynb",
   "provenance": []
  },
  "kernelspec": {
   "display_name": "Python 3",
   "language": "python",
   "name": "python3"
  },
  "language_info": {
   "codemirror_mode": {
    "name": "ipython",
    "version": 3
   },
   "file_extension": ".py",
   "mimetype": "text/x-python",
   "name": "python",
   "nbconvert_exporter": "python",
   "pygments_lexer": "ipython3",
   "version": "3.8.8"
  }
 },
 "nbformat": 4,
 "nbformat_minor": 1
}
